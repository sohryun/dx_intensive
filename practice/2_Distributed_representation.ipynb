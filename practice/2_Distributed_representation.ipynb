{
  "cells": [
    {
      "cell_type": "markdown",
      "metadata": {
        "id": "RDdaXxTuZ-oa"
      },
      "source": [
        "## [LG 전자] 자연어 처리 # 2 : 분상 표상 기반의 임베딩 기법\n",
        "* Word2Vec\n",
        "* GloVe\n",
        "* FastText\n",
        "\n",
        "예상 난이도 ⭐️"
      ]
    },
    {
      "cell_type": "markdown",
      "metadata": {
        "id": "pH2OUSs8tdg9"
      },
      "source": [
        "## 실습 요약\n",
        "* 분상표상 기반의 임베딩 기법을 학습합니다\n",
        "* 여러가지 임베딩 기법을 통해 간단한 모델을 구축한 후 성능을 비교합니다"
      ]
    },
    {
      "cell_type": "markdown",
      "metadata": {
        "id": "XvnpBm1PtVeV"
      },
      "source": [
        "------"
      ]
    },
    {
      "cell_type": "markdown",
      "metadata": {
        "id": "xVvGtj7vYQ5v"
      },
      "source": [
        "### STEP 0. 환경 구축하기\n",
        "* 필요한 library들을 import 합니다"
      ]
    },
    {
      "cell_type": "code",
      "execution_count": null,
      "metadata": {
        "id": "WtIPKkNiaosp"
      },
      "outputs": [],
      "source": [
        "import random\n",
        "import numpy as np\n",
        "import pandas as pd\n",
        "from time import time\n",
        "from tqdm import tqdm\n",
        "import matplotlib.pyplot as plt\n",
        "plt.rcParams['axes.unicode_minus'] = False\n",
        "#%matplotlib inline #생성한 figure를 notebook에서 볼 수있게 해주는 코드\n",
        "\n",
        "import gensim\n",
        "import torch\n",
        "import torch.nn as nn\n",
        "import torch.optim as optim\n",
        "import torch.nn.functional as F\n",
        "\n",
        "#check torch version & device\n",
        "print (\"PyTorch version:[%s].\"%(torch.__version__))\n",
        "device = torch.device('cuda:0' if torch.cuda.is_available() else 'cpu')\n",
        "print (\"device:[%s].\"%(device))"
      ]
    },
    {
      "cell_type": "code",
      "execution_count": null,
      "metadata": {
        "id": "Ie8Y84-3yCz0"
      },
      "outputs": [],
      "source": [
        "! pip install konlpy -q\n",
        "! pip install glove_python_binary -q"
      ]
    },
    {
      "cell_type": "code",
      "execution_count": null,
      "metadata": {
        "id": "rUM2BsZMcCzC"
      },
      "outputs": [],
      "source": [
        "# set random seed \n",
        "\n",
        "def set_seed(random_seed):\n",
        "    torch.manual_seed(random_seed)\n",
        "    torch.cuda.manual_seed(random_seed)\n",
        "    torch.cuda.manual_seed_all(random_seed)  # if use multi-GPU\n",
        "    torch.backends.cudnn.deterministic = True\n",
        "    torch.backends.cudnn.benchmark = False\n",
        "    np.random.seed(random_seed)\n",
        "    random.seed(random_seed)\n",
        "    \n",
        "random_seed = 42\n",
        "set_seed(random_seed)"
      ]
    },
    {
      "cell_type": "markdown",
      "metadata": {
        "id": "FACcqNcFcExO"
      },
      "source": [
        "### STEP 1. 데이터 준비하기\n",
        "금일 실습에서는 **Naver_shopping**에서 수집된 **리뷰 데이터**를 활용합니다.\n",
        "* 제품별 후기를 별점과 함께 수집한 데이터\n",
        "* 데이터셋 출처\n",
        "\n",
        "  * 1) https://github.com/songys/AwesomeKorean_Data\n",
        "  * 2) https://github.com/bab2min/corpus/tree/master/sentiment\n",
        "\n",
        "\n",
        "* 해당 실습에서는 전체 데이터 중 50%인 10만개의 데이터를 사용함 (긍정 : 50000개, 부정 : 50000개)\n",
        "\n",
        "\n"
      ]
    },
    {
      "cell_type": "code",
      "execution_count": null,
      "metadata": {
        "id": "5-Vn2GBei2Vf"
      },
      "outputs": [],
      "source": [
        "# github에서 데이터 불러오기\n",
        "!git clone https://github.com/KU-DIC/LG_natural_language_processing_day21"
      ]
    },
    {
      "cell_type": "code",
      "execution_count": null,
      "metadata": {
        "id": "_prvLfHKcGqQ"
      },
      "outputs": [],
      "source": [
        "# 데이터셋 읽기\n",
        "with open('./LG_natural_language_processing_day21/data/naver_shopping.txt','r',encoding='utf-8') as f:\n",
        "  data = f.readlines()"
      ]
    },
    {
      "cell_type": "code",
      "execution_count": null,
      "metadata": {
        "colab": {
          "base_uri": "https://localhost:8080/"
        },
        "id": "aeFWxr9bMOWh",
        "outputId": "c029e82b-6506-46da-e4c2-70bdaf366494"
      },
      "outputs": [
        {
          "name": "stderr",
          "output_type": "stream",
          "text": [
            "100%|██████████| 200000/200000 [00:00<00:00, 652105.08it/s]\n"
          ]
        }
      ],
      "source": [
        "# 분석에 사용할 형태로 가공하기\n",
        "rate = []\n",
        "label = []\n",
        "sentence = []\n",
        "for cur_review in tqdm(data):\n",
        "  # 평점과 리뷰 문장 분리\n",
        "  cur_review = cur_review.split('\\t')\n",
        "  # 평점\n",
        "  rate.append(cur_review[0])\n",
        "  # 리뷰 문장\n",
        "  sentence.append(cur_review[1].strip('\\n'))\n",
        "  # 평점 4,5 : Positive, \n",
        "  # 평점 1,2 : Negative\n",
        "  if int(cur_review[0]) >3:\n",
        "    label.append(1) # positive\n",
        "  else:\n",
        "    label.append(-1) # negative"
      ]
    },
    {
      "cell_type": "code",
      "execution_count": null,
      "metadata": {
        "id": "BnaQBc06MmWn"
      },
      "outputs": [],
      "source": [
        "# 데이터 프레임 형태로 변환하기\n",
        "df = {\n",
        "    \"rate\" : rate,\n",
        "    \"label\" : label,\n",
        "    \"sentence\" : sentence\n",
        "}\n",
        "df = pd.DataFrame(df)\n",
        "df = df.sample(frac=0.5,replace=False, random_state=42)"
      ]
    },
    {
      "cell_type": "code",
      "execution_count": null,
      "metadata": {
        "colab": {
          "base_uri": "https://localhost:8080/",
          "height": 282
        },
        "id": "Y51bkahCNxfU",
        "outputId": "03605204-8311-4bb0-f7f6-aa3a54b45696"
      },
      "outputs": [
        {
          "data": {
            "text/plain": [
              "<matplotlib.axes._subplots.AxesSubplot at 0x7fd613104a10>"
            ]
          },
          "execution_count": 29,
          "metadata": {},
          "output_type": "execute_result"
        },
        {
          "data": {
            "image/png": "[encoded data removed]",
            "text/plain": [
              "<Figure size 432x288 with 1 Axes>"
            ]
          },
          "metadata": {
            "needs_background": "light"
          },
          "output_type": "display_data"
        }
      ],
      "source": [
        "df['label'].hist()"
      ]
    },
    {
      "cell_type": "code",
      "execution_count": null,
      "metadata": {
        "colab": {
          "base_uri": "https://localhost:8080/",
          "height": 206
        },
        "id": "giZkNb0_OohV",
        "outputId": "52703c79-bbbd-4994-e4af-ff27d685cfd7"
      },
      "outputs": [
        {
          "data": {
            "text/html": [
              "\n",
              "  <div id=\"df-f0a472ce-c049-4903-ba42-a16cb9a46803\">\n",
              "    <div class=\"colab-df-container\">\n",
              "      <div>\n",
              "<style scoped>\n",
              "    .dataframe tbody tr th:only-of-type {\n",
              "        vertical-align: middle;\n",
              "    }\n",
              "\n",
              "    .dataframe tbody tr th {\n",
              "        vertical-align: top;\n",
              "    }\n",
              "\n",
              "    .dataframe thead th {\n",
              "        text-align: right;\n",
              "    }\n",
              "</style>\n",
              "<table border=\"1\" class=\"dataframe\">\n",
              "  <thead>\n",
              "    <tr style=\"text-align: right;\">\n",
              "      <th></th>\n",
              "      <th>rate</th>\n",
              "      <th>label</th>\n",
              "      <th>sentence</th>\n",
              "    </tr>\n",
              "  </thead>\n",
              "  <tbody>\n",
              "    <tr>\n",
              "      <th>119737</th>\n",
              "      <td>2</td>\n",
              "      <td>negative</td>\n",
              "      <td>마감이 안좋아요...실밥도 많고 바느질도 부족한 부분이 몇군데 있네요...교환받기 ...</td>\n",
              "    </tr>\n",
              "    <tr>\n",
              "      <th>72272</th>\n",
              "      <td>5</td>\n",
              "      <td>positive</td>\n",
              "      <td>깨끗하게 잘 다듬어져 있어요. 맛도좋고요.</td>\n",
              "    </tr>\n",
              "    <tr>\n",
              "      <th>158154</th>\n",
              "      <td>4</td>\n",
              "      <td>positive</td>\n",
              "      <td>재구매 배송빨라요 길냥이들이 잘먹어요~~ 대용량이라 좋네요~</td>\n",
              "    </tr>\n",
              "    <tr>\n",
              "      <th>65426</th>\n",
              "      <td>5</td>\n",
              "      <td>positive</td>\n",
              "      <td>제품도 빨리 배송해주시고 꼼꼼하게 잘챙겨주셨어요</td>\n",
              "    </tr>\n",
              "    <tr>\n",
              "      <th>30074</th>\n",
              "      <td>5</td>\n",
              "      <td>positive</td>\n",
              "      <td>기타 남 멋지고 예뻐요 여러 사은품도 좋아요</td>\n",
              "    </tr>\n",
              "  </tbody>\n",
              "</table>\n",
              "</div>\n",
              "      <button class=\"colab-df-convert\" onclick=\"convertToInteractive('df-f0a472ce-c049-4903-ba42-a16cb9a46803')\"\n",
              "              title=\"Convert this dataframe to an interactive table.\"\n",
              "              style=\"display:none;\">\n",
              "        \n",
              "  <svg xmlns=\"http://www.w3.org/2000/svg\" height=\"24px\"viewBox=\"0 0 24 24\"\n",
              "       width=\"24px\">\n",
              "    <path d=\"M0 0h24v24H0V0z\" fill=\"none\"/>\n",
              "    <path d=\"M18.56 5.44l.94 2.06.94-2.06 2.06-.94-2.06-.94-.94-2.06-.94 2.06-2.06.94zm-11 1L8.5 8.5l.94-2.06 2.06-.94-2.06-.94L8.5 2.5l-.94 2.06-2.06.94zm10 10l.94 2.06.94-2.06 2.06-.94-2.06-.94-.94-2.06-.94 2.06-2.06.94z\"/><path d=\"M17.41 7.96l-1.37-1.37c-.4-.4-.92-.59-1.43-.59-.52 0-1.04.2-1.43.59L10.3 9.45l-7.72 7.72c-.78.78-.78 2.05 0 2.83L4 21.41c.39.39.9.59 1.41.59.51 0 1.02-.2 1.41-.59l7.78-7.78 2.81-2.81c.8-.78.8-2.07 0-2.86zM5.41 20L4 18.59l7.72-7.72 1.47 1.35L5.41 20z\"/>\n",
              "  </svg>\n",
              "      </button>\n",
              "      \n",
              "  <style>\n",
              "    .colab-df-container {\n",
              "      display:flex;\n",
              "      flex-wrap:wrap;\n",
              "      gap: 12px;\n",
              "    }\n",
              "\n",
              "    .colab-df-convert {\n",
              "      background-color: #E8F0FE;\n",
              "      border: none;\n",
              "      border-radius: 50%;\n",
              "      cursor: pointer;\n",
              "      display: none;\n",
              "      fill: #1967D2;\n",
              "      height: 32px;\n",
              "      padding: 0 0 0 0;\n",
              "      width: 32px;\n",
              "    }\n",
              "\n",
              "    .colab-df-convert:hover {\n",
              "      background-color: #E2EBFA;\n",
              "      box-shadow: 0px 1px 2px rgba(60, 64, 67, 0.3), 0px 1px 3px 1px rgba(60, 64, 67, 0.15);\n",
              "      fill: #174EA6;\n",
              "    }\n",
              "\n",
              "    [theme=dark] .colab-df-convert {\n",
              "      background-color: #3B4455;\n",
              "      fill: #D2E3FC;\n",
              "    }\n",
              "\n",
              "    [theme=dark] .colab-df-convert:hover {\n",
              "      background-color: #434B5C;\n",
              "      box-shadow: 0px 1px 3px 1px rgba(0, 0, 0, 0.15);\n",
              "      filter: drop-shadow(0px 1px 2px rgba(0, 0, 0, 0.3));\n",
              "      fill: #FFFFFF;\n",
              "    }\n",
              "  </style>\n",
              "\n",
              "      <script>\n",
              "        const buttonEl =\n",
              "          document.querySelector('#df-f0a472ce-c049-4903-ba42-a16cb9a46803 button.colab-df-convert');\n",
              "        buttonEl.style.display =\n",
              "          google.colab.kernel.accessAllowed ? 'block' : 'none';\n",
              "\n",
              "        async function convertToInteractive(key) {\n",
              "          const element = document.querySelector('#df-f0a472ce-c049-4903-ba42-a16cb9a46803');\n",
              "          const dataTable =\n",
              "            await google.colab.kernel.invokeFunction('convertToInteractive',\n",
              "                                                     [key], {});\n",
              "          if (!dataTable) return;\n",
              "\n",
              "          const docLinkHtml = 'Like what you see? Visit the ' +\n",
              "            '<a target=\"_blank\" href=https://colab.research.google.com/notebooks/data_table.ipynb>data table notebook</a>'\n",
              "            + ' to learn more about interactive tables.';\n",
              "          element.innerHTML = '';\n",
              "          dataTable['output_type'] = 'display_data';\n",
              "          await google.colab.output.renderOutput(dataTable, element);\n",
              "          const docLink = document.createElement('div');\n",
              "          docLink.innerHTML = docLinkHtml;\n",
              "          element.appendChild(docLink);\n",
              "        }\n",
              "      </script>\n",
              "    </div>\n",
              "  </div>\n",
              "  "
            ],
            "text/plain": [
              "       rate     label                                           sentence\n",
              "119737    2  negative  마감이 안좋아요...실밥도 많고 바느질도 부족한 부분이 몇군데 있네요...교환받기 ...\n",
              "72272     5  positive                            깨끗하게 잘 다듬어져 있어요. 맛도좋고요.\n",
              "158154    4  positive                  재구매 배송빨라요 길냥이들이 잘먹어요~~ 대용량이라 좋네요~\n",
              "65426     5  positive                         제품도 빨리 배송해주시고 꼼꼼하게 잘챙겨주셨어요\n",
              "30074     5  positive                           기타 남 멋지고 예뻐요 여러 사은품도 좋아요"
            ]
          },
          "execution_count": 30,
          "metadata": {},
          "output_type": "execute_result"
        }
      ],
      "source": [
        "df.head()"
      ]
    },
    {
      "cell_type": "markdown",
      "metadata": {
        "id": "SaZ1DdvNkbgt"
      },
      "source": [
        "### STEP 2. 데이터 전처리 (Preprocessing)"
      ]
    },
    {
      "cell_type": "code",
      "execution_count": null,
      "metadata": {
        "id": "WIySBkPocmLD"
      },
      "outputs": [],
      "source": [
        "review_sentences = df['sentence'].to_list()"
      ]
    },
    {
      "cell_type": "code",
      "execution_count": null,
      "metadata": {
        "id": "Q7j4w1z-tRuy"
      },
      "outputs": [],
      "source": [
        "import re\n",
        "def preprocess(text):\n",
        "  text = re.sub('[-=+,#/\\?:^$~@*\\\"※~&%ㆍ!』\\\\‘|\\(\\)\\[\\]\\<\\>`\\'…》]','', text)\n",
        "  text = re.sub('[ㅠㅎㅋ]','', text)\n",
        "  return text"
      ]
    },
    {
      "cell_type": "code",
      "execution_count": null,
      "metadata": {
        "colab": {
          "base_uri": "https://localhost:8080/"
        },
        "id": "4dUBQnv6tg1f",
        "outputId": "8462456d-99a3-4783-9440-d6e9308e33e4"
      },
      "outputs": [
        {
          "name": "stderr",
          "output_type": "stream",
          "text": [
            "100%|██████████| 100000/100000 [00:00<00:00, 225911.59it/s]\n"
          ]
        }
      ],
      "source": [
        "normalize_sentence = []\n",
        "for sentence in tqdm(review_sentences):\n",
        "  sentence = preprocess(sentence)\n",
        "  normalize_sentence.append(sentence)\n",
        "\n",
        "df['normalize_sentence'] = normalize_sentence"
      ]
    },
    {
      "cell_type": "code",
      "execution_count": null,
      "metadata": {
        "colab": {
          "base_uri": "https://localhost:8080/",
          "height": 424
        },
        "id": "cqJg23mzudmp",
        "outputId": "bf269522-1c32-4247-a2f5-665c41565bfc"
      },
      "outputs": [
        {
          "data": {
            "text/html": [
              "\n",
              "  <div id=\"df-4de94fd0-bb88-4129-afec-439fa5ab3759\">\n",
              "    <div class=\"colab-df-container\">\n",
              "      <div>\n",
              "<style scoped>\n",
              "    .dataframe tbody tr th:only-of-type {\n",
              "        vertical-align: middle;\n",
              "    }\n",
              "\n",
              "    .dataframe tbody tr th {\n",
              "        vertical-align: top;\n",
              "    }\n",
              "\n",
              "    .dataframe thead th {\n",
              "        text-align: right;\n",
              "    }\n",
              "</style>\n",
              "<table border=\"1\" class=\"dataframe\">\n",
              "  <thead>\n",
              "    <tr style=\"text-align: right;\">\n",
              "      <th></th>\n",
              "      <th>rate</th>\n",
              "      <th>label</th>\n",
              "      <th>sentence</th>\n",
              "      <th>normalize_sentence</th>\n",
              "    </tr>\n",
              "  </thead>\n",
              "  <tbody>\n",
              "    <tr>\n",
              "      <th>119737</th>\n",
              "      <td>2</td>\n",
              "      <td>negative</td>\n",
              "      <td>마감이 안좋아요...실밥도 많고 바느질도 부족한 부분이 몇군데 있네요...교환받기 ...</td>\n",
              "      <td>마감이 안좋아요...실밥도 많고 바느질도 부족한 부분이 몇군데 있네요...교환받기 ...</td>\n",
              "    </tr>\n",
              "    <tr>\n",
              "      <th>72272</th>\n",
              "      <td>5</td>\n",
              "      <td>positive</td>\n",
              "      <td>깨끗하게 잘 다듬어져 있어요. 맛도좋고요.</td>\n",
              "      <td>깨끗하게 잘 다듬어져 있어요. 맛도좋고요.</td>\n",
              "    </tr>\n",
              "    <tr>\n",
              "      <th>158154</th>\n",
              "      <td>4</td>\n",
              "      <td>positive</td>\n",
              "      <td>재구매 배송빨라요 길냥이들이 잘먹어요~~ 대용량이라 좋네요~</td>\n",
              "      <td>재구매 배송빨라요 길냥이들이 잘먹어요 대용량이라 좋네요</td>\n",
              "    </tr>\n",
              "    <tr>\n",
              "      <th>65426</th>\n",
              "      <td>5</td>\n",
              "      <td>positive</td>\n",
              "      <td>제품도 빨리 배송해주시고 꼼꼼하게 잘챙겨주셨어요</td>\n",
              "      <td>제품도 빨리 배송해주시고 꼼꼼하게 잘챙겨주셨어요</td>\n",
              "    </tr>\n",
              "    <tr>\n",
              "      <th>30074</th>\n",
              "      <td>5</td>\n",
              "      <td>positive</td>\n",
              "      <td>기타 남 멋지고 예뻐요 여러 사은품도 좋아요</td>\n",
              "      <td>기타 남 멋지고 예뻐요 여러 사은품도 좋아요</td>\n",
              "    </tr>\n",
              "    <tr>\n",
              "      <th>...</th>\n",
              "      <td>...</td>\n",
              "      <td>...</td>\n",
              "      <td>...</td>\n",
              "      <td>...</td>\n",
              "    </tr>\n",
              "    <tr>\n",
              "      <th>7568</th>\n",
              "      <td>2</td>\n",
              "      <td>negative</td>\n",
              "      <td>전에쓰던 오일이 아니네요.ㅠ</td>\n",
              "      <td>전에쓰던 오일이 아니네요.</td>\n",
              "    </tr>\n",
              "    <tr>\n",
              "      <th>83772</th>\n",
              "      <td>2</td>\n",
              "      <td>negative</td>\n",
              "      <td>비닐 고정 똑딱이? 그부분 한번 사용했는데 바로 찢어지네요 깨진다는 표현이 맞나요 ...</td>\n",
              "      <td>비닐 고정 똑딱이 그부분 한번 사용했는데 바로 찢어지네요 깨진다는 표현이 맞나요 아...</td>\n",
              "    </tr>\n",
              "    <tr>\n",
              "      <th>118200</th>\n",
              "      <td>5</td>\n",
              "      <td>positive</td>\n",
              "      <td>덕분에 저렴한 가격으로 제작 했네요.</td>\n",
              "      <td>덕분에 저렴한 가격으로 제작 했네요.</td>\n",
              "    </tr>\n",
              "    <tr>\n",
              "      <th>153871</th>\n",
              "      <td>2</td>\n",
              "      <td>negative</td>\n",
              "      <td>커버가 질이 안좋아서 오래 못쓸것 같아요</td>\n",
              "      <td>커버가 질이 안좋아서 오래 못쓸것 같아요</td>\n",
              "    </tr>\n",
              "    <tr>\n",
              "      <th>168988</th>\n",
              "      <td>2</td>\n",
              "      <td>negative</td>\n",
              "      <td>이거 씹어먹는거 맞나요? 씹어서 물이랑 먹으라 써져서 먹었는데 맛도 없고 입안이 다...</td>\n",
              "      <td>이거 씹어먹는거 맞나요 씹어서 물이랑 먹으라 써져서 먹었는데 맛도 없고 입안이 다 ...</td>\n",
              "    </tr>\n",
              "  </tbody>\n",
              "</table>\n",
              "<p>100000 rows × 4 columns</p>\n",
              "</div>\n",
              "      <button class=\"colab-df-convert\" onclick=\"convertToInteractive('df-4de94fd0-bb88-4129-afec-439fa5ab3759')\"\n",
              "              title=\"Convert this dataframe to an interactive table.\"\n",
              "              style=\"display:none;\">\n",
              "        \n",
              "  <svg xmlns=\"http://www.w3.org/2000/svg\" height=\"24px\"viewBox=\"0 0 24 24\"\n",
              "       width=\"24px\">\n",
              "    <path d=\"M0 0h24v24H0V0z\" fill=\"none\"/>\n",
              "    <path d=\"M18.56 5.44l.94 2.06.94-2.06 2.06-.94-2.06-.94-.94-2.06-.94 2.06-2.06.94zm-11 1L8.5 8.5l.94-2.06 2.06-.94-2.06-.94L8.5 2.5l-.94 2.06-2.06.94zm10 10l.94 2.06.94-2.06 2.06-.94-2.06-.94-.94-2.06-.94 2.06-2.06.94z\"/><path d=\"M17.41 7.96l-1.37-1.37c-.4-.4-.92-.59-1.43-.59-.52 0-1.04.2-1.43.59L10.3 9.45l-7.72 7.72c-.78.78-.78 2.05 0 2.83L4 21.41c.39.39.9.59 1.41.59.51 0 1.02-.2 1.41-.59l7.78-7.78 2.81-2.81c.8-.78.8-2.07 0-2.86zM5.41 20L4 18.59l7.72-7.72 1.47 1.35L5.41 20z\"/>\n",
              "  </svg>\n",
              "      </button>\n",
              "      \n",
              "  <style>\n",
              "    .colab-df-container {\n",
              "      display:flex;\n",
              "      flex-wrap:wrap;\n",
              "      gap: 12px;\n",
              "    }\n",
              "\n",
              "    .colab-df-convert {\n",
              "      background-color: #E8F0FE;\n",
              "      border: none;\n",
              "      border-radius: 50%;\n",
              "      cursor: pointer;\n",
              "      display: none;\n",
              "      fill: #1967D2;\n",
              "      height: 32px;\n",
              "      padding: 0 0 0 0;\n",
              "      width: 32px;\n",
              "    }\n",
              "\n",
              "    .colab-df-convert:hover {\n",
              "      background-color: #E2EBFA;\n",
              "      box-shadow: 0px 1px 2px rgba(60, 64, 67, 0.3), 0px 1px 3px 1px rgba(60, 64, 67, 0.15);\n",
              "      fill: #174EA6;\n",
              "    }\n",
              "\n",
              "    [theme=dark] .colab-df-convert {\n",
              "      background-color: #3B4455;\n",
              "      fill: #D2E3FC;\n",
              "    }\n",
              "\n",
              "    [theme=dark] .colab-df-convert:hover {\n",
              "      background-color: #434B5C;\n",
              "      box-shadow: 0px 1px 3px 1px rgba(0, 0, 0, 0.15);\n",
              "      filter: drop-shadow(0px 1px 2px rgba(0, 0, 0, 0.3));\n",
              "      fill: #FFFFFF;\n",
              "    }\n",
              "  </style>\n",
              "\n",
              "      <script>\n",
              "        const buttonEl =\n",
              "          document.querySelector('#df-4de94fd0-bb88-4129-afec-439fa5ab3759 button.colab-df-convert');\n",
              "        buttonEl.style.display =\n",
              "          google.colab.kernel.accessAllowed ? 'block' : 'none';\n",
              "\n",
              "        async function convertToInteractive(key) {\n",
              "          const element = document.querySelector('#df-4de94fd0-bb88-4129-afec-439fa5ab3759');\n",
              "          const dataTable =\n",
              "            await google.colab.kernel.invokeFunction('convertToInteractive',\n",
              "                                                     [key], {});\n",
              "          if (!dataTable) return;\n",
              "\n",
              "          const docLinkHtml = 'Like what you see? Visit the ' +\n",
              "            '<a target=\"_blank\" href=https://colab.research.google.com/notebooks/data_table.ipynb>data table notebook</a>'\n",
              "            + ' to learn more about interactive tables.';\n",
              "          element.innerHTML = '';\n",
              "          dataTable['output_type'] = 'display_data';\n",
              "          await google.colab.output.renderOutput(dataTable, element);\n",
              "          const docLink = document.createElement('div');\n",
              "          docLink.innerHTML = docLinkHtml;\n",
              "          element.appendChild(docLink);\n",
              "        }\n",
              "      </script>\n",
              "    </div>\n",
              "  </div>\n",
              "  "
            ],
            "text/plain": [
              "       rate  ...                                 normalize_sentence\n",
              "119737    2  ...  마감이 안좋아요...실밥도 많고 바느질도 부족한 부분이 몇군데 있네요...교환받기 ...\n",
              "72272     5  ...                            깨끗하게 잘 다듬어져 있어요. 맛도좋고요.\n",
              "158154    4  ...                     재구매 배송빨라요 길냥이들이 잘먹어요 대용량이라 좋네요\n",
              "65426     5  ...                         제품도 빨리 배송해주시고 꼼꼼하게 잘챙겨주셨어요\n",
              "30074     5  ...                           기타 남 멋지고 예뻐요 여러 사은품도 좋아요\n",
              "...     ...  ...                                                ...\n",
              "7568      2  ...                                     전에쓰던 오일이 아니네요.\n",
              "83772     2  ...  비닐 고정 똑딱이 그부분 한번 사용했는데 바로 찢어지네요 깨진다는 표현이 맞나요 아...\n",
              "118200    5  ...                               덕분에 저렴한 가격으로 제작 했네요.\n",
              "153871    2  ...                             커버가 질이 안좋아서 오래 못쓸것 같아요\n",
              "168988    2  ...  이거 씹어먹는거 맞나요 씹어서 물이랑 먹으라 써져서 먹었는데 맛도 없고 입안이 다 ...\n",
              "\n",
              "[100000 rows x 4 columns]"
            ]
          },
          "execution_count": 34,
          "metadata": {},
          "output_type": "execute_result"
        }
      ],
      "source": [
        "df"
      ]
    },
    {
      "cell_type": "markdown",
      "metadata": {
        "id": "zjw-KFL0k5A1"
      },
      "source": [
        "### STEP 3. 토큰화 진행 (Tokenization)"
      ]
    },
    {
      "cell_type": "code",
      "execution_count": null,
      "metadata": {
        "id": "lEC_sIWJ_bNk"
      },
      "outputs": [],
      "source": [
        "# Okt(Open Korea Text)\n",
        "from konlpy.tag import Okt  \n",
        "okt=Okt() \n",
        "\n",
        "okt.morphs(normalize_sentence[0])"
      ]
    },
    {
      "cell_type": "code",
      "execution_count": null,
      "metadata": {
        "colab": {
          "base_uri": "https://localhost:8080/"
        },
        "id": "FJ55fpYTvT0h",
        "outputId": "87b1e1b7-9378-4768-ecd3-234ff18825de"
      },
      "outputs": [
        {
          "name": "stderr",
          "output_type": "stream",
          "text": [
            "100%|██████████| 100000/100000 [06:59<00:00, 238.56it/s]\n"
          ]
        }
      ],
      "source": [
        "tokenized_sentence = []\n",
        "for sent in tqdm(normalize_sentence):\n",
        "  sent = okt.morphs(sent)\n",
        "  tokenized_sentence.append(sent)"
      ]
    },
    {
      "cell_type": "code",
      "execution_count": null,
      "metadata": {
        "id": "XhUniskUrysU"
      },
      "outputs": [],
      "source": [
        "df['tokenized_sentence'] = tokenized_sentence"
      ]
    },
    {
      "cell_type": "code",
      "execution_count": null,
      "metadata": {
        "id": "AcbWzfYP_bNl"
      },
      "outputs": [],
      "source": [
        "df.head()"
      ]
    },
    {
      "cell_type": "code",
      "execution_count": null,
      "metadata": {
        "colab": {
          "base_uri": "https://localhost:8080/",
          "height": 282
        },
        "id": "_KM7W6EaOLCi",
        "outputId": "95e2540a-703a-4cb6-b530-8b50d7bf50b9"
      },
      "outputs": [
        {
          "data": {
            "text/plain": [
              "<matplotlib.axes._subplots.AxesSubplot at 0x7fd612a716d0>"
            ]
          },
          "execution_count": 20,
          "metadata": {},
          "output_type": "execute_result"
        },
        {
          "data": {
            "image/png": "[encoded data removed]",
            "text/plain": [
              "<Figure size 432x288 with 1 Axes>"
            ]
          },
          "metadata": {
            "needs_background": "light"
          },
          "output_type": "display_data"
        }
      ],
      "source": [
        "from sklearn.model_selection import train_test_split\n",
        "\n",
        "train_df, test_df = train_test_split(df, test_size =0.2, random_state= 42)\n",
        "train_df['label'].hist()\n",
        "test_df['label'].hist()"
      ]
    },
    {
      "cell_type": "markdown",
      "metadata": {
        "id": "NhZtdagGsTVe"
      },
      "source": [
        "### STEP 4. 벡터화 진행 (Vectorization)"
      ]
    },
    {
      "cell_type": "markdown",
      "metadata": {
        "id": "867JeaHnsk56"
      },
      "source": [
        "#### Method 1. Word2Vec"
      ]
    },
    {
      "cell_type": "code",
      "execution_count": null,
      "metadata": {
        "id": "AYfQVmjLkRnX"
      },
      "outputs": [],
      "source": [
        "from gensim.models import Word2Vec"
      ]
    },
    {
      "cell_type": "code",
      "execution_count": null,
      "metadata": {
        "id": "AQr7Cfz_uvlI"
      },
      "outputs": [],
      "source": [
        "train_sentence = train_df['tokenized_sentence'].to_list()\n",
        "test_sentence = test_df['tokenized_sentence'].to_list()"
      ]
    },
    {
      "cell_type": "code",
      "execution_count": null,
      "metadata": {
        "colab": {
          "base_uri": "https://localhost:8080/"
        },
        "id": "GpZnvdRErugm",
        "outputId": "ab0757d6-025a-46cc-dec8-0b357788c162"
      },
      "outputs": [
        {
          "name": "stdout",
          "output_type": "stream",
          "text": [
            "CPU times: user 35.7 s, sys: 370 ms, total: 36 s\n",
            "Wall time: 26.4 s\n"
          ]
        }
      ],
      "source": [
        "%%time\n",
        "model = Word2Vec(\n",
        "    sentences=train_sentence,\n",
        "    size=100, \n",
        "    window=5, \n",
        "    min_count=1, \n",
        "    workers=4,\n",
        "    seed=random_seed)"
      ]
    },
    {
      "cell_type": "code",
      "execution_count": null,
      "metadata": {
        "id": "3pv0UKaV5scK"
      },
      "outputs": [],
      "source": [
        "model.build_vocab([['<UNK>']],update=True)"
      ]
    },
    {
      "cell_type": "code",
      "execution_count": null,
      "metadata": {
        "id": "FQwvqNfdr9ge"
      },
      "outputs": [],
      "source": [
        "# model.save(\"word2vec.model\")"
      ]
    },
    {
      "cell_type": "code",
      "execution_count": null,
      "metadata": {
        "id": "YVnnb8XKsOAl"
      },
      "outputs": [],
      "source": [
        "vocab = list(model.wv.vocab)"
      ]
    },
    {
      "cell_type": "code",
      "execution_count": null,
      "metadata": {
        "colab": {
          "base_uri": "https://localhost:8080/"
        },
        "id": "rZ2wqrS3s3k3",
        "outputId": "5964e3d0-091d-48e8-8489-abd6a7f007de"
      },
      "outputs": [
        {
          "data": {
            "text/plain": [
              "(67654, list)"
            ]
          },
          "execution_count": 147,
          "metadata": {},
          "output_type": "execute_result"
        }
      ],
      "source": [
        "len(vocab),type(vocab)"
      ]
    },
    {
      "cell_type": "code",
      "execution_count": null,
      "metadata": {
        "colab": {
          "base_uri": "https://localhost:8080/"
        },
        "id": "mbZZpBfrvyb7",
        "outputId": "843715e8-7187-459d-d428-26b3f24efc5a"
      },
      "outputs": [
        {
          "data": {
            "text/plain": [
              "[('별루', 0.8738036751747131),\n",
              " ('부석해서', 0.7595747113227844),\n",
              " ('졀로', 0.7581014633178711),\n",
              " ('별루별루별루별루', 0.7471020221710205),\n",
              " ('섀도우', 0.7422731518745422),\n",
              " ('신의한수', 0.7378954887390137),\n",
              " ('뱔로', 0.7315418124198914),\n",
              " ('막무가내', 0.7220317721366882),\n",
              " ('소름', 0.7181041836738586),\n",
              " ('에러', 0.7118133902549744)]"
            ]
          },
          "execution_count": 148,
          "metadata": {},
          "output_type": "execute_result"
        }
      ],
      "source": [
        "model.wv.most_similar('별로', topn=10)"
      ]
    },
    {
      "cell_type": "code",
      "execution_count": null,
      "metadata": {
        "colab": {
          "base_uri": "https://localhost:8080/"
        },
        "id": "V2WNGlawJQRh",
        "outputId": "75762484-9c2c-4e19-8ce2-a189f84c8484"
      },
      "outputs": [
        {
          "name": "stderr",
          "output_type": "stream",
          "text": [
            "100%|██████████| 80000/80000 [05:31<00:00, 241.62it/s]\n",
            "100%|██████████| 20000/20000 [02:00<00:00, 165.32it/s]\n"
          ]
        }
      ],
      "source": [
        "train_sentence_vector = []\n",
        "for cur_sent in tqdm(train_sentence):\n",
        "  vector = np.zeros(100,)\n",
        "  for word in cur_sent:\n",
        "    if word in vocab:\n",
        "      vector += model.wv[word]\n",
        "  train_sentence_vector.append(vector)\n",
        "\n",
        "test_sentence_vector = []\n",
        "for cur_sent in tqdm(test_sentence):\n",
        "  vector = np.zeros(100,)\n",
        "  for word in cur_sent:\n",
        "    if word in vocab:\n",
        "      vector += model.wv[word]\n",
        "  test_sentence_vector.append(vector)"
      ]
    },
    {
      "cell_type": "code",
      "execution_count": null,
      "metadata": {
        "id": "v_oc9lQrzqYu"
      },
      "outputs": [],
      "source": [
        "train_df['w2v_sentence_vector'] = train_sentence_vector\n",
        "test_df['w2v_sentence_vector'] = test_sentence_vector"
      ]
    },
    {
      "cell_type": "markdown",
      "metadata": {
        "id": "oQqxDIcb__Kv"
      },
      "source": [
        "#### Method 2. Glove"
      ]
    },
    {
      "cell_type": "code",
      "execution_count": null,
      "metadata": {
        "colab": {
          "base_uri": "https://localhost:8080/"
        },
        "id": "vVPPO1-WAANR",
        "outputId": "0bf323d7-04f7-43e6-ac0d-af643e16ee01"
      },
      "outputs": [
        {
          "name": "stdout",
          "output_type": "stream",
          "text": [
            "Performing 20 training epochs with 4 threads\n",
            "Epoch 0\n",
            "Epoch 1\n",
            "Epoch 2\n",
            "Epoch 3\n",
            "Epoch 4\n",
            "Epoch 5\n",
            "Epoch 6\n",
            "Epoch 7\n",
            "Epoch 8\n",
            "Epoch 9\n",
            "Epoch 10\n",
            "Epoch 11\n",
            "Epoch 12\n",
            "Epoch 13\n",
            "Epoch 14\n",
            "Epoch 15\n",
            "Epoch 16\n",
            "Epoch 17\n",
            "Epoch 18\n",
            "Epoch 19\n"
          ]
        }
      ],
      "source": [
        "from glove import Corpus, Glove\n",
        "\n",
        "corpus = Corpus() \n",
        "\n",
        "# 훈련 데이터로부터 GloVe에서 사용할 동시 등장 행렬 생성\n",
        "corpus.fit(train_sentence, window=5)\n",
        "glove = Glove(no_components=100, learning_rate=0.05, random_state=42)\n",
        "\n",
        "# 학습에 이용할 쓰레드의 개수는 4로 설정, 에포크는 20.\n",
        "glove.fit(corpus.matrix, epochs=20, no_threads=4, verbose=True)\n",
        "glove.add_dictionary(corpus.dictionary)"
      ]
    },
    {
      "cell_type": "code",
      "execution_count": null,
      "metadata": {
        "colab": {
          "base_uri": "https://localhost:8080/"
        },
        "id": "QqGZD17kCW-6",
        "outputId": "bef4428a-7c0d-40a8-c27b-ab0484173287"
      },
      "outputs": [
        {
          "data": {
            "text/plain": [
              "[('에요', 0.9359565467561218),\n",
              " ('예요', 0.9044741251685323),\n",
              " ('임', 0.8953138297688558),\n",
              " ('별루', 0.8872834387651115),\n",
              " ('였어요', 0.8840304931563836),\n",
              " ('였네요', 0.8714731780423475),\n",
              " ('멸로멸류멸', 0.8450582105914648),\n",
              " ('붙지안음', 0.8243578207139584),\n",
              " ('너무해', 0.7983413734824351)]"
            ]
          },
          "execution_count": 45,
          "metadata": {},
          "output_type": "execute_result"
        }
      ],
      "source": [
        "glove.most_similar(\"별로\",number=10)"
      ]
    },
    {
      "cell_type": "code",
      "execution_count": null,
      "metadata": {
        "colab": {
          "base_uri": "https://localhost:8080/"
        },
        "id": "TgmJAprn0uCD",
        "outputId": "e392d0f6-2bfe-4bea-b89b-ad43d18cc5e3"
      },
      "outputs": [
        {
          "name": "stderr",
          "output_type": "stream",
          "text": [
            "100%|██████████| 67653/67653 [00:00<00:00, 1306535.27it/s]\n"
          ]
        }
      ],
      "source": [
        "vocab = []\n",
        "for word, word_idx in tqdm(glove.dictionary.items()):\n",
        "  vocab.append(word)"
      ]
    },
    {
      "cell_type": "code",
      "execution_count": null,
      "metadata": {
        "colab": {
          "base_uri": "https://localhost:8080/"
        },
        "id": "8APe6cax8vej",
        "outputId": "c93f8dd9-4c0f-4944-afda-65c0eb95dcde"
      },
      "outputs": [
        {
          "name": "stderr",
          "output_type": "stream",
          "text": [
            "100%|██████████| 80000/80000 [06:01<00:00, 221.41it/s]\n",
            "100%|██████████| 20000/20000 [02:12<00:00, 151.27it/s]\n"
          ]
        }
      ],
      "source": [
        "train_sentence_vector = []\n",
        "for cur_sent in tqdm(train_sentence):\n",
        "  vector = np.zeros(100,)\n",
        "  for word in cur_sent:\n",
        "    if word in vocab:\n",
        "      vector += glove.word_vectors[glove.dictionary[word]]\n",
        "  train_sentence_vector.append(vector)\n",
        "\n",
        "test_sentence_vector = []\n",
        "for cur_sent in tqdm(test_sentence):\n",
        "  vector = np.zeros(100,)\n",
        "  for word in cur_sent:\n",
        "    if word in vocab:\n",
        "      vector += glove.word_vectors[glove.dictionary[word]]\n",
        "  test_sentence_vector.append(vector)"
      ]
    },
    {
      "cell_type": "code",
      "execution_count": null,
      "metadata": {
        "id": "IQxHkLGW-Cl9"
      },
      "outputs": [],
      "source": [
        "train_df['glove_sentence_vector'] = train_sentence_vector\n",
        "test_df['glove_sentence_vector'] = test_sentence_vector"
      ]
    },
    {
      "cell_type": "markdown",
      "metadata": {
        "id": "ZkkXDZwYDkPW"
      },
      "source": [
        "#### Method 3. FastText"
      ]
    },
    {
      "cell_type": "code",
      "execution_count": null,
      "metadata": {
        "colab": {
          "base_uri": "https://localhost:8080/"
        },
        "id": "Vm_Wm1N-CuU5",
        "outputId": "2babe35a-5a01-4e23-cf26-d46a455612fb"
      },
      "outputs": [
        {
          "name": "stdout",
          "output_type": "stream",
          "text": [
            "CPU times: user 1min 14s, sys: 908 ms, total: 1min 15s\n",
            "Wall time: 52.6 s\n"
          ]
        }
      ],
      "source": [
        "%%time\n",
        "from gensim.models import FastText\n",
        "\n",
        "model = FastText(\n",
        "    sentences = tokenized_sentence,\n",
        "    size=100,\n",
        "    window=5,\n",
        "    min_count=1,\n",
        "    workers=4)"
      ]
    },
    {
      "cell_type": "code",
      "execution_count": null,
      "metadata": {
        "id": "npnHNTWrEHZg"
      },
      "outputs": [],
      "source": [
        "vocab = list(model.wv.vocab)"
      ]
    },
    {
      "cell_type": "code",
      "execution_count": null,
      "metadata": {
        "colab": {
          "base_uri": "https://localhost:8080/"
        },
        "id": "G1sUGiliEXrj",
        "outputId": "403d69c7-4cc8-4d3d-97c6-7444a74c6897"
      },
      "outputs": [
        {
          "data": {
            "text/plain": [
              "76908"
            ]
          },
          "execution_count": 178,
          "metadata": {},
          "output_type": "execute_result"
        }
      ],
      "source": [
        "len(vocab)"
      ]
    },
    {
      "cell_type": "code",
      "execution_count": null,
      "metadata": {
        "colab": {
          "base_uri": "https://localhost:8080/"
        },
        "id": "5UJFjOqTEXBZ",
        "outputId": "75c73a7f-b11f-45f5-b6c4-120f0e550119"
      },
      "outputs": [
        {
          "data": {
            "text/plain": [
              "[('별로넷', 0.9996068477630615),\n",
              " ('별루', 0.8530545830726624),\n",
              " ('닥별루', 0.8459689617156982),\n",
              " ('별루없', 0.8427098989486694),\n",
              " ('별루별루', 0.8366000652313232),\n",
              " ('별루여', 0.8299564719200134),\n",
              " ('별루다', 0.8254740238189697),\n",
              " ('별루료', 0.8250741958618164),\n",
              " ('별루별루별루', 0.8250157833099365),\n",
              " ('별루래', 0.8218951225280762)]"
            ]
          },
          "execution_count": 179,
          "metadata": {},
          "output_type": "execute_result"
        }
      ],
      "source": [
        "model.wv.most_similar('별로', topn=10)"
      ]
    },
    {
      "cell_type": "code",
      "execution_count": null,
      "metadata": {
        "colab": {
          "base_uri": "https://localhost:8080/"
        },
        "id": "rvCCVROa-Ia6",
        "outputId": "23817bd4-da32-476b-bee2-fa171818f86a"
      },
      "outputs": [
        {
          "name": "stderr",
          "output_type": "stream",
          "text": [
            "100%|██████████| 80000/80000 [05:43<00:00, 232.85it/s]\n",
            "100%|██████████| 20000/20000 [01:26<00:00, 232.48it/s]\n"
          ]
        }
      ],
      "source": [
        "train_sentence_vector = []\n",
        "for cur_sent in tqdm(train_sentence):\n",
        "  vector = np.zeros(100,)\n",
        "  for word in cur_sent:\n",
        "    if word in vocab:\n",
        "      vector += model.wv[word]\n",
        "  train_sentence_vector.append(vector)\n",
        "\n",
        "test_sentence_vector = []\n",
        "for cur_sent in tqdm(test_sentence):\n",
        "  vector = np.zeros(100,)\n",
        "  for word in cur_sent:\n",
        "    if word in vocab:\n",
        "      vector += model.wv[word]\n",
        "  test_sentence_vector.append(vector)"
      ]
    },
    {
      "cell_type": "code",
      "execution_count": null,
      "metadata": {
        "id": "Cgq8oHJm-KqF"
      },
      "outputs": [],
      "source": [
        "train_df['ft_sentence_vector'] = train_sentence_vector\n",
        "test_df['ft_sentence_vector'] = test_sentence_vector"
      ]
    },
    {
      "cell_type": "code",
      "execution_count": null,
      "metadata": {
        "id": "2EpRAxxNElAT"
      },
      "outputs": [],
      "source": [
        "# train_df.to_csv('./train_df.csv')\n",
        "# test_df.to_csv('./test_df.csv')"
      ]
    },
    {
      "cell_type": "markdown",
      "metadata": {
        "id": "6v2UDIcOEoKb"
      },
      "source": [
        "### STEP 5. 모델 구축하기 (Modeling)\n",
        "* Word2Vec, Glove, FastText를 활용하여 감성분석 모델 만들기\n"
      ]
    },
    {
      "cell_type": "markdown",
      "metadata": {
        "id": "rcRt3NVPDLx0"
      },
      "source": [
        "#### Word2Vec을 사용하여 감성 분석하기"
      ]
    },
    {
      "cell_type": "code",
      "execution_count": null,
      "metadata": {
        "id": "fP9RnMN_4RZF"
      },
      "outputs": [],
      "source": [
        "w2v_df = train_df[['label','w2v_sentence_vector']]"
      ]
    },
    {
      "cell_type": "code",
      "execution_count": null,
      "metadata": {
        "colab": {
          "base_uri": "https://localhost:8080/"
        },
        "id": "KuFIMx5EqP7i",
        "outputId": "262e9c5c-c518-4fbd-ab6e-2f5df3275343"
      },
      "outputs": [
        {
          "data": {
            "text/plain": [
              "0.9995625"
            ]
          },
          "execution_count": 208,
          "metadata": {},
          "output_type": "execute_result"
        }
      ],
      "source": [
        "from sklearn.tree import DecisionTreeClassifier\n",
        "\n",
        "model = DecisionTreeClassifier(random_state=42)\n",
        "\n",
        "sent_vec = np.stack(w2v_df.w2v_sentence_vector,axis=0)\n",
        "label_vec = np.array(w2v_df.label.to_list()).reshape(-1,)\n",
        "\n",
        "model = model.fit(sent_vec, label_vec)\n",
        "model.score(sent_vec, label_vec)"
      ]
    },
    {
      "cell_type": "code",
      "execution_count": null,
      "metadata": {
        "colab": {
          "base_uri": "https://localhost:8080/"
        },
        "id": "4ycleXJ-DENb",
        "outputId": "90e2eb60-c31b-4d8b-885e-89dfe7a2565d"
      },
      "outputs": [
        {
          "data": {
            "text/plain": [
              "0.76705"
            ]
          },
          "execution_count": 209,
          "metadata": {},
          "output_type": "execute_result"
        }
      ],
      "source": [
        "w2v_df = test_df[['label','w2v_sentence_vector']]\n",
        "sent_vec = np.stack(w2v_df.w2v_sentence_vector,axis=0)\n",
        "label_vec = np.array(w2v_df.label.to_list()).reshape(-1,)\n",
        "model.score(sent_vec, label_vec)"
      ]
    },
    {
      "cell_type": "code",
      "execution_count": null,
      "metadata": {
        "id": "1FlGjn8xIrEv"
      },
      "outputs": [],
      "source": [
        "glove_df = train_df[['label','glove_sentence_vector']]"
      ]
    },
    {
      "cell_type": "code",
      "execution_count": null,
      "metadata": {
        "colab": {
          "base_uri": "https://localhost:8080/"
        },
        "id": "RTIWC_WRIq7W",
        "outputId": "5dcde170-5671-4e16-a4a7-ecf3f555c638"
      },
      "outputs": [
        {
          "data": {
            "text/plain": [
              "0.9995625"
            ]
          },
          "execution_count": 211,
          "metadata": {},
          "output_type": "execute_result"
        }
      ],
      "source": [
        "from sklearn.tree import DecisionTreeClassifier\n",
        "model = DecisionTreeClassifier(random_state=42)\n",
        "\n",
        "sent_vec = np.stack(glove_df.glove_sentence_vector,axis=0)\n",
        "label_vec = np.array(glove_df.label.to_list()).reshape(-1,)\n",
        "\n",
        "model = model.fit(sent_vec, label_vec)\n",
        "model.score(sent_vec, label_vec)"
      ]
    },
    {
      "cell_type": "code",
      "execution_count": null,
      "metadata": {
        "colab": {
          "base_uri": "https://localhost:8080/"
        },
        "id": "Nf4bsBsJIqsy",
        "outputId": "f0289653-1a5a-421f-c8c4-fa33ec3b8ebc"
      },
      "outputs": [
        {
          "data": {
            "text/plain": [
              "0.71695"
            ]
          },
          "execution_count": 212,
          "metadata": {},
          "output_type": "execute_result"
        }
      ],
      "source": [
        "glove_df = test_df[['label','glove_sentence_vector']]\n",
        "\n",
        "sent_vec = np.stack(glove_df.glove_sentence_vector,axis=0)\n",
        "label_vec = np.array(glove_df.label.to_list()).reshape(-1,)\n",
        "model.score(sent_vec, label_vec)"
      ]
    },
    {
      "cell_type": "code",
      "execution_count": null,
      "metadata": {
        "colab": {
          "base_uri": "https://localhost:8080/"
        },
        "id": "V8x4-zHzI6PP",
        "outputId": "c5809682-8f15-4b19-ff99-e7922859e597"
      },
      "outputs": [
        {
          "data": {
            "text/plain": [
              "0.9995625"
            ]
          },
          "execution_count": 213,
          "metadata": {},
          "output_type": "execute_result"
        }
      ],
      "source": [
        "from sklearn.tree import DecisionTreeClassifier\n",
        "ft_df = train_df[['label','ft_sentence_vector']]\n",
        "\n",
        "model = DecisionTreeClassifier(random_state=42)\n",
        "\n",
        "sent_vec = np.stack(ft_df.ft_sentence_vector,axis=0)\n",
        "label_vec = np.array(ft_df.label.to_list()).reshape(-1,)\n",
        "\n",
        "model = model.fit(sent_vec, label_vec)\n",
        "model.score(sent_vec, label_vec)"
      ]
    },
    {
      "cell_type": "code",
      "execution_count": null,
      "metadata": {
        "colab": {
          "base_uri": "https://localhost:8080/"
        },
        "id": "uNT9sCxPJPtK",
        "outputId": "9b821881-2af1-4ce9-a10f-5d019aae388b"
      },
      "outputs": [
        {
          "data": {
            "text/plain": [
              "0.751"
            ]
          },
          "execution_count": 214,
          "metadata": {},
          "output_type": "execute_result"
        }
      ],
      "source": [
        "ft_df = test_df[['label','ft_sentence_vector']]\n",
        "\n",
        "sent_vec = np.stack(ft_df.ft_sentence_vector,axis=0)\n",
        "label_vec = np.array(ft_df.label.to_list()).reshape(-1,)\n",
        "model.score(sent_vec, label_vec)"
      ]
    }
  ],
  "metadata": {
    "colab": {
      "name": "자연어처리_2_Distributed_representation.ipynb",
      "provenance": [],
      "toc_visible": true
    },
    "kernelspec": {
      "display_name": "Python 3",
      "name": "python3"
    },
    "language_info": {
      "name": "python"
    },
    "accelerator": "GPU",
    "gpuClass": "standard"
  },
  "nbformat": 4,
  "nbformat_minor": 0
}
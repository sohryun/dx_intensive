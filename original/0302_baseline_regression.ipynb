{
 "cells": [
  {
   "cell_type": "code",
   "execution_count": 1,
   "id": "89a36be8-01ef-4800-ada1-9de39ae94251",
   "metadata": {},
   "outputs": [],
   "source": [
    "import pandas as pd\n",
    "import numpy as np\n",
    "from sklearn.model_selection import train_test_split\n",
    "\n",
    "df = pd.read_csv('230216_RawDataSet.csv')\n",
    "\n",
    "data_len = len(df)\n",
    "\n",
    "X_train, X_test, y_train, y_test = train_test_split(df.iloc[:,:-1], df.iloc[:,-1], test_size=0.1,\n",
    "                                                    random_state=42,shuffle=False)\n",
    "\n"
   ]
  },
  {
   "cell_type": "markdown",
   "id": "afcb78ab-fb75-4c76-872b-2b5d5e63b16d",
   "metadata": {},
   "source": [
    "## 이전시점의 y값을 예측하는 것을 baseline 으로 하는 mae, mse 값 계산하기"
   ]
  },
  {
   "cell_type": "code",
   "execution_count": 4,
   "id": "655771a6-bbd6-45cf-8883-b5ebbebf06fd",
   "metadata": {},
   "outputs": [
    {
     "data": {
      "text/plain": [
       "0.08092395580769234"
      ]
     },
     "execution_count": 4,
     "metadata": {},
     "output_type": "execute_result"
    }
   ],
   "source": [
    "y_before = y_test.shift(1)\n",
    "\n",
    "from sklearn.metrics import mean_absolute_error\n",
    "from sklearn.metrics import mean_squared_error\n",
    "y_before.iloc[0] = y_test.iloc[0] ## 첫 시점의 예측은 무시함 \n",
    "\n",
    "mean_absolute_error(y_before,y_test)\n"
   ]
  },
  {
   "cell_type": "code",
   "execution_count": 3,
   "id": "38420165-96a7-4438-8e3b-10730e75d8d8",
   "metadata": {},
   "outputs": [
    {
     "data": {
      "text/plain": [
       "0.010727080027237866"
      ]
     },
     "execution_count": 3,
     "metadata": {},
     "output_type": "execute_result"
    }
   ],
   "source": [
    "mean_squared_error(y_before,y_test)"
   ]
  },
  {
   "cell_type": "code",
   "execution_count": null,
   "id": "0e6286d1-d6e0-400f-980e-7cd88e6c080f",
   "metadata": {},
   "outputs": [],
   "source": []
  }
 ],
 "metadata": {
  "kernelspec": {
   "display_name": "Python 3 (ipykernel)",
   "language": "python",
   "name": "python3"
  },
  "language_info": {
   "codemirror_mode": {
    "name": "ipython",
    "version": 3
   },
   "file_extension": ".py",
   "mimetype": "text/x-python",
   "name": "python",
   "nbconvert_exporter": "python",
   "pygments_lexer": "ipython3",
   "version": "3.8.16"
  }
 },
 "nbformat": 4,
 "nbformat_minor": 5
}

{
  "cells": [
    {
      "cell_type": "markdown",
      "metadata": {
        "id": "RDdaXxTuZ-oa"
      },
      "source": [
        "## [LG 전자] 자연어 처리 # 2 : 분상 표상 기반의 임베딩 기법\n",
        "* Word2Vec\n",
        "* GloVe\n",
        "* FastText\n",
        "\n",
        "예상 난이도 ⭐️"
      ]
    },
    {
      "cell_type": "markdown",
      "metadata": {
        "id": "pH2OUSs8tdg9"
      },
      "source": [
        "## 실습 요약\n",
        "* 분상표상 기반의 임베딩 기법을 학습합니다\n",
        "* 여러가지 임베딩 기법을 통해 간단한 모델을 구축한 후 성능을 비교합니다"
      ]
    },
    {
      "cell_type": "markdown",
      "metadata": {
        "id": "XvnpBm1PtVeV"
      },
      "source": [
        "------"
      ]
    },
    {
      "cell_type": "markdown",
      "metadata": {
        "id": "xVvGtj7vYQ5v"
      },
      "source": [
        "### STEP 0. 환경 구축하기\n",
        "* 필요한 library들을 import 합니다"
      ]
    },
    {
      "cell_type": "code",
      "execution_count": null,
      "metadata": {
        "colab": {
          "base_uri": "https://localhost:8080/"
        },
        "id": "WtIPKkNiaosp",
        "outputId": "55dc0017-b082-4ce0-8b79-e1e6075dd0b1"
      },
      "outputs": [
        {
          "output_type": "stream",
          "name": "stdout",
          "text": [
            "PyTorch version:[2.0.0+cu118].\n",
            "device:[cuda:0].\n"
          ]
        }
      ],
      "source": [
        "import random\n",
        "import numpy as np\n",
        "import pandas as pd\n",
        "from time import time\n",
        "from tqdm import tqdm\n",
        "import matplotlib.pyplot as plt\n",
        "plt.rcParams['axes.unicode_minus'] = False\n",
        "#%matplotlib inline #생성한 figure를 notebook에서 볼 수있게 해주는 코드\n",
        "\n",
        "import gensim\n",
        "import torch\n",
        "import torch.nn as nn\n",
        "import torch.optim as optim\n",
        "import torch.nn.functional as F\n",
        "\n",
        "#check torch version & device\n",
        "print (\"PyTorch version:[%s].\"%(torch.__version__))\n",
        "device = torch.device('cuda:0' if torch.cuda.is_available() else 'cpu')\n",
        "print (\"device:[%s].\"%(device))"
      ]
    },
    {
      "cell_type": "code",
      "execution_count": null,
      "metadata": {
        "id": "Ie8Y84-3yCz0"
      },
      "outputs": [],
      "source": [
        "! pip install konlpy -q\n",
        "! pip install glove_python_binary -q"
      ]
    },
    {
      "cell_type": "code",
      "execution_count": null,
      "metadata": {
        "id": "rUM2BsZMcCzC"
      },
      "outputs": [],
      "source": [
        "# set random seed \n",
        "\n",
        "def set_seed(random_seed):\n",
        "    torch.manual_seed(random_seed)\n",
        "    torch.cuda.manual_seed(random_seed)\n",
        "    torch.cuda.manual_seed_all(random_seed)  # if use multi-GPU\n",
        "    torch.backends.cudnn.deterministic = True\n",
        "    torch.backends.cudnn.benchmark = False\n",
        "    np.random.seed(random_seed)\n",
        "    random.seed(random_seed)\n",
        "    \n",
        "random_seed = 42\n",
        "set_seed(random_seed)"
      ]
    },
    {
      "cell_type": "markdown",
      "metadata": {
        "id": "FACcqNcFcExO"
      },
      "source": [
        "### STEP 1. 데이터 준비하기\n",
        "금일 실습에서는 **Naver_shopping**에서 수집된 **리뷰 데이터**를 활용합니다.\n",
        "* 제품별 후기를 별점과 함께 수집한 데이터\n",
        "* 데이터셋 출처\n",
        "\n",
        "  * 1) https://github.com/songys/AwesomeKorean_Data\n",
        "  * 2) https://github.com/bab2min/corpus/tree/master/sentiment\n",
        "\n",
        "\n",
        "* 해당 실습에서는 전체 데이터 중 50%인 10만개의 데이터를 사용함 (긍정 : 50000개, 부정 : 50000개)\n",
        "\n",
        "\n"
      ]
    },
    {
      "cell_type": "code",
      "execution_count": null,
      "metadata": {
        "id": "5-Vn2GBei2Vf",
        "colab": {
          "base_uri": "https://localhost:8080/"
        },
        "outputId": "65ac5e14-83e1-4e50-f22b-29d87be3c714"
      },
      "outputs": [
        {
          "output_type": "stream",
          "name": "stdout",
          "text": [
            "Cloning into 'LG_natural_language_processing_day21'...\n",
            "remote: Enumerating objects: 17, done.\u001b[K\n",
            "remote: Counting objects: 100% (17/17), done.\u001b[K\n",
            "remote: Compressing objects: 100% (10/10), done.\u001b[K\n",
            "remote: Total 17 (delta 6), reused 12 (delta 4), pack-reused 0\u001b[K\n",
            "Unpacking objects: 100% (17/17), 7.40 MiB | 7.52 MiB/s, done.\n"
          ]
        }
      ],
      "source": [
        "# github에서 데이터 불러오기\n",
        "!git clone https://github.com/KU-DIC/LG_natural_language_processing_day21"
      ]
    },
    {
      "cell_type": "code",
      "execution_count": null,
      "metadata": {
        "id": "_prvLfHKcGqQ"
      },
      "outputs": [],
      "source": [
        "# 데이터셋 읽기\n",
        "with open('./LG_natural_language_processing_day21/data/naver_shopping.txt','r',encoding='utf-8') as f:\n",
        "  data = f.readlines()"
      ]
    },
    {
      "cell_type": "code",
      "source": [
        "data[0]"
      ],
      "metadata": {
        "colab": {
          "base_uri": "https://localhost:8080/",
          "height": 35
        },
        "id": "6-Qz8E4ZBL73",
        "outputId": "9f880063-b6ff-4c25-e45c-036650477f1c"
      },
      "execution_count": null,
      "outputs": [
        {
          "output_type": "execute_result",
          "data": {
            "text/plain": [
              "'5\\t배공빠르고 굿\\n'"
            ],
            "application/vnd.google.colaboratory.intrinsic+json": {
              "type": "string"
            }
          },
          "metadata": {},
          "execution_count": 6
        }
      ]
    },
    {
      "cell_type": "code",
      "execution_count": null,
      "metadata": {
        "colab": {
          "base_uri": "https://localhost:8080/"
        },
        "id": "aeFWxr9bMOWh",
        "outputId": "39b2f8f5-2d0a-418b-9808-08f52801b4c8"
      },
      "outputs": [
        {
          "output_type": "stream",
          "name": "stderr",
          "text": [
            "100%|██████████| 200000/200000 [00:00<00:00, 483846.59it/s]\n"
          ]
        }
      ],
      "source": [
        "# 분석에 사용할 형태로 가공하기\n",
        "rate = []\n",
        "label = []\n",
        "sentence = []\n",
        "for cur_review in tqdm(data):\n",
        "  # 평점과 리뷰 문장 분리\n",
        "  cur_review = cur_review.split('\\t')\n",
        "  # 평점\n",
        "  rate.append(cur_review[0])\n",
        "  # 리뷰 문장\n",
        "  sentence.append(cur_review[1].strip('\\n'))\n",
        "  # 평점 4,5 : Positive, \n",
        "  # 평점 1,2,3 : Negative\n",
        "  if int(cur_review[0]) >3:\n",
        "    label.append(1) # positive\n",
        "  else:\n",
        "    label.append(-1) # negative"
      ]
    },
    {
      "cell_type": "code",
      "execution_count": null,
      "metadata": {
        "id": "BnaQBc06MmWn"
      },
      "outputs": [],
      "source": [
        "# 데이터 프레임 형태로 변환하기\n",
        "df = {\n",
        "    \"rate\" : rate,\n",
        "    \"label\" : label,\n",
        "    \"sentence\" : sentence\n",
        "}\n",
        "df = pd.DataFrame(df)\n",
        "df = df.sample(frac=0.5,replace=False, random_state=42)"
      ]
    },
    {
      "cell_type": "code",
      "source": [
        "df.shape"
      ],
      "metadata": {
        "colab": {
          "base_uri": "https://localhost:8080/"
        },
        "id": "J0ahdiauCLeo",
        "outputId": "bad86837-bfb2-4e23-bf19-9ff5046ecb76"
      },
      "execution_count": null,
      "outputs": [
        {
          "output_type": "execute_result",
          "data": {
            "text/plain": [
              "(100000, 3)"
            ]
          },
          "metadata": {},
          "execution_count": 11
        }
      ]
    },
    {
      "cell_type": "code",
      "source": [
        "df.head()"
      ],
      "metadata": {
        "colab": {
          "base_uri": "https://localhost:8080/",
          "height": 206
        },
        "id": "iw-5mHOICagw",
        "outputId": "564397c5-b9de-4462-dde9-ce1633f6d551"
      },
      "execution_count": null,
      "outputs": [
        {
          "output_type": "execute_result",
          "data": {
            "text/plain": [
              "       rate  label                                           sentence\n",
              "119737    2     -1  마감이 안좋아요...실밥도 많고 바느질도 부족한 부분이 몇군데 있네요...교환받기 ...\n",
              "72272     5      1                            깨끗하게 잘 다듬어져 있어요. 맛도좋고요.\n",
              "158154    4      1                  재구매 배송빨라요 길냥이들이 잘먹어요~~ 대용량이라 좋네요~\n",
              "65426     5      1                         제품도 빨리 배송해주시고 꼼꼼하게 잘챙겨주셨어요\n",
              "30074     5      1                           기타 남 멋지고 예뻐요 여러 사은품도 좋아요"
            ],
            "text/html": [
              "\n",
              "  <div id=\"df-d28c92ce-ff98-43bb-8722-5073d2f2cb7b\">\n",
              "    <div class=\"colab-df-container\">\n",
              "      <div>\n",
              "<style scoped>\n",
              "    .dataframe tbody tr th:only-of-type {\n",
              "        vertical-align: middle;\n",
              "    }\n",
              "\n",
              "    .dataframe tbody tr th {\n",
              "        vertical-align: top;\n",
              "    }\n",
              "\n",
              "    .dataframe thead th {\n",
              "        text-align: right;\n",
              "    }\n",
              "</style>\n",
              "<table border=\"1\" class=\"dataframe\">\n",
              "  <thead>\n",
              "    <tr style=\"text-align: right;\">\n",
              "      <th></th>\n",
              "      <th>rate</th>\n",
              "      <th>label</th>\n",
              "      <th>sentence</th>\n",
              "    </tr>\n",
              "  </thead>\n",
              "  <tbody>\n",
              "    <tr>\n",
              "      <th>119737</th>\n",
              "      <td>2</td>\n",
              "      <td>-1</td>\n",
              "      <td>마감이 안좋아요...실밥도 많고 바느질도 부족한 부분이 몇군데 있네요...교환받기 ...</td>\n",
              "    </tr>\n",
              "    <tr>\n",
              "      <th>72272</th>\n",
              "      <td>5</td>\n",
              "      <td>1</td>\n",
              "      <td>깨끗하게 잘 다듬어져 있어요. 맛도좋고요.</td>\n",
              "    </tr>\n",
              "    <tr>\n",
              "      <th>158154</th>\n",
              "      <td>4</td>\n",
              "      <td>1</td>\n",
              "      <td>재구매 배송빨라요 길냥이들이 잘먹어요~~ 대용량이라 좋네요~</td>\n",
              "    </tr>\n",
              "    <tr>\n",
              "      <th>65426</th>\n",
              "      <td>5</td>\n",
              "      <td>1</td>\n",
              "      <td>제품도 빨리 배송해주시고 꼼꼼하게 잘챙겨주셨어요</td>\n",
              "    </tr>\n",
              "    <tr>\n",
              "      <th>30074</th>\n",
              "      <td>5</td>\n",
              "      <td>1</td>\n",
              "      <td>기타 남 멋지고 예뻐요 여러 사은품도 좋아요</td>\n",
              "    </tr>\n",
              "  </tbody>\n",
              "</table>\n",
              "</div>\n",
              "      <button class=\"colab-df-convert\" onclick=\"convertToInteractive('df-d28c92ce-ff98-43bb-8722-5073d2f2cb7b')\"\n",
              "              title=\"Convert this dataframe to an interactive table.\"\n",
              "              style=\"display:none;\">\n",
              "        \n",
              "  <svg xmlns=\"http://www.w3.org/2000/svg\" height=\"24px\"viewBox=\"0 0 24 24\"\n",
              "       width=\"24px\">\n",
              "    <path d=\"M0 0h24v24H0V0z\" fill=\"none\"/>\n",
              "    <path d=\"M18.56 5.44l.94 2.06.94-2.06 2.06-.94-2.06-.94-.94-2.06-.94 2.06-2.06.94zm-11 1L8.5 8.5l.94-2.06 2.06-.94-2.06-.94L8.5 2.5l-.94 2.06-2.06.94zm10 10l.94 2.06.94-2.06 2.06-.94-2.06-.94-.94-2.06-.94 2.06-2.06.94z\"/><path d=\"M17.41 7.96l-1.37-1.37c-.4-.4-.92-.59-1.43-.59-.52 0-1.04.2-1.43.59L10.3 9.45l-7.72 7.72c-.78.78-.78 2.05 0 2.83L4 21.41c.39.39.9.59 1.41.59.51 0 1.02-.2 1.41-.59l7.78-7.78 2.81-2.81c.8-.78.8-2.07 0-2.86zM5.41 20L4 18.59l7.72-7.72 1.47 1.35L5.41 20z\"/>\n",
              "  </svg>\n",
              "      </button>\n",
              "      \n",
              "  <style>\n",
              "    .colab-df-container {\n",
              "      display:flex;\n",
              "      flex-wrap:wrap;\n",
              "      gap: 12px;\n",
              "    }\n",
              "\n",
              "    .colab-df-convert {\n",
              "      background-color: #E8F0FE;\n",
              "      border: none;\n",
              "      border-radius: 50%;\n",
              "      cursor: pointer;\n",
              "      display: none;\n",
              "      fill: #1967D2;\n",
              "      height: 32px;\n",
              "      padding: 0 0 0 0;\n",
              "      width: 32px;\n",
              "    }\n",
              "\n",
              "    .colab-df-convert:hover {\n",
              "      background-color: #E2EBFA;\n",
              "      box-shadow: 0px 1px 2px rgba(60, 64, 67, 0.3), 0px 1px 3px 1px rgba(60, 64, 67, 0.15);\n",
              "      fill: #174EA6;\n",
              "    }\n",
              "\n",
              "    [theme=dark] .colab-df-convert {\n",
              "      background-color: #3B4455;\n",
              "      fill: #D2E3FC;\n",
              "    }\n",
              "\n",
              "    [theme=dark] .colab-df-convert:hover {\n",
              "      background-color: #434B5C;\n",
              "      box-shadow: 0px 1px 3px 1px rgba(0, 0, 0, 0.15);\n",
              "      filter: drop-shadow(0px 1px 2px rgba(0, 0, 0, 0.3));\n",
              "      fill: #FFFFFF;\n",
              "    }\n",
              "  </style>\n",
              "\n",
              "      <script>\n",
              "        const buttonEl =\n",
              "          document.querySelector('#df-d28c92ce-ff98-43bb-8722-5073d2f2cb7b button.colab-df-convert');\n",
              "        buttonEl.style.display =\n",
              "          google.colab.kernel.accessAllowed ? 'block' : 'none';\n",
              "\n",
              "        async function convertToInteractive(key) {\n",
              "          const element = document.querySelector('#df-d28c92ce-ff98-43bb-8722-5073d2f2cb7b');\n",
              "          const dataTable =\n",
              "            await google.colab.kernel.invokeFunction('convertToInteractive',\n",
              "                                                     [key], {});\n",
              "          if (!dataTable) return;\n",
              "\n",
              "          const docLinkHtml = 'Like what you see? Visit the ' +\n",
              "            '<a target=\"_blank\" href=https://colab.research.google.com/notebooks/data_table.ipynb>data table notebook</a>'\n",
              "            + ' to learn more about interactive tables.';\n",
              "          element.innerHTML = '';\n",
              "          dataTable['output_type'] = 'display_data';\n",
              "          await google.colab.output.renderOutput(dataTable, element);\n",
              "          const docLink = document.createElement('div');\n",
              "          docLink.innerHTML = docLinkHtml;\n",
              "          element.appendChild(docLink);\n",
              "        }\n",
              "      </script>\n",
              "    </div>\n",
              "  </div>\n",
              "  "
            ]
          },
          "metadata": {},
          "execution_count": 12
        }
      ]
    },
    {
      "cell_type": "code",
      "execution_count": null,
      "metadata": {
        "colab": {
          "base_uri": "https://localhost:8080/",
          "height": 448
        },
        "id": "Y51bkahCNxfU",
        "outputId": "b2ed109a-6466-4f89-a711-dc1853ba70e3"
      },
      "outputs": [
        {
          "output_type": "execute_result",
          "data": {
            "text/plain": [
              "<Axes: >"
            ]
          },
          "metadata": {},
          "execution_count": 13
        },
        {
          "output_type": "display_data",
          "data": {
            "text/plain": [
              "<Figure size 640x480 with 1 Axes>"
            ],
            "image/png": "[encoded data removed]"
          },
          "metadata": {}
        }
      ],
      "source": [
        "df['label'].hist()"
      ]
    },
    {
      "cell_type": "code",
      "execution_count": null,
      "metadata": {
        "colab": {
          "base_uri": "https://localhost:8080/",
          "height": 206
        },
        "id": "giZkNb0_OohV",
        "outputId": "d00cad16-a76a-4c4d-c40d-6b39a0c95bb8"
      },
      "outputs": [
        {
          "output_type": "execute_result",
          "data": {
            "text/plain": [
              "       rate  label                                           sentence\n",
              "119737    2     -1  마감이 안좋아요...실밥도 많고 바느질도 부족한 부분이 몇군데 있네요...교환받기 ...\n",
              "72272     5      1                            깨끗하게 잘 다듬어져 있어요. 맛도좋고요.\n",
              "158154    4      1                  재구매 배송빨라요 길냥이들이 잘먹어요~~ 대용량이라 좋네요~\n",
              "65426     5      1                         제품도 빨리 배송해주시고 꼼꼼하게 잘챙겨주셨어요\n",
              "30074     5      1                           기타 남 멋지고 예뻐요 여러 사은품도 좋아요"
            ],
            "text/html": [
              "\n",
              "  <div id=\"df-46acacc7-3dba-4eb6-ac85-66593ef58ef4\">\n",
              "    <div class=\"colab-df-container\">\n",
              "      <div>\n",
              "<style scoped>\n",
              "    .dataframe tbody tr th:only-of-type {\n",
              "        vertical-align: middle;\n",
              "    }\n",
              "\n",
              "    .dataframe tbody tr th {\n",
              "        vertical-align: top;\n",
              "    }\n",
              "\n",
              "    .dataframe thead th {\n",
              "        text-align: right;\n",
              "    }\n",
              "</style>\n",
              "<table border=\"1\" class=\"dataframe\">\n",
              "  <thead>\n",
              "    <tr style=\"text-align: right;\">\n",
              "      <th></th>\n",
              "      <th>rate</th>\n",
              "      <th>label</th>\n",
              "      <th>sentence</th>\n",
              "    </tr>\n",
              "  </thead>\n",
              "  <tbody>\n",
              "    <tr>\n",
              "      <th>119737</th>\n",
              "      <td>2</td>\n",
              "      <td>-1</td>\n",
              "      <td>마감이 안좋아요...실밥도 많고 바느질도 부족한 부분이 몇군데 있네요...교환받기 ...</td>\n",
              "    </tr>\n",
              "    <tr>\n",
              "      <th>72272</th>\n",
              "      <td>5</td>\n",
              "      <td>1</td>\n",
              "      <td>깨끗하게 잘 다듬어져 있어요. 맛도좋고요.</td>\n",
              "    </tr>\n",
              "    <tr>\n",
              "      <th>158154</th>\n",
              "      <td>4</td>\n",
              "      <td>1</td>\n",
              "      <td>재구매 배송빨라요 길냥이들이 잘먹어요~~ 대용량이라 좋네요~</td>\n",
              "    </tr>\n",
              "    <tr>\n",
              "      <th>65426</th>\n",
              "      <td>5</td>\n",
              "      <td>1</td>\n",
              "      <td>제품도 빨리 배송해주시고 꼼꼼하게 잘챙겨주셨어요</td>\n",
              "    </tr>\n",
              "    <tr>\n",
              "      <th>30074</th>\n",
              "      <td>5</td>\n",
              "      <td>1</td>\n",
              "      <td>기타 남 멋지고 예뻐요 여러 사은품도 좋아요</td>\n",
              "    </tr>\n",
              "  </tbody>\n",
              "</table>\n",
              "</div>\n",
              "      <button class=\"colab-df-convert\" onclick=\"convertToInteractive('df-46acacc7-3dba-4eb6-ac85-66593ef58ef4')\"\n",
              "              title=\"Convert this dataframe to an interactive table.\"\n",
              "              style=\"display:none;\">\n",
              "        \n",
              "  <svg xmlns=\"http://www.w3.org/2000/svg\" height=\"24px\"viewBox=\"0 0 24 24\"\n",
              "       width=\"24px\">\n",
              "    <path d=\"M0 0h24v24H0V0z\" fill=\"none\"/>\n",
              "    <path d=\"M18.56 5.44l.94 2.06.94-2.06 2.06-.94-2.06-.94-.94-2.06-.94 2.06-2.06.94zm-11 1L8.5 8.5l.94-2.06 2.06-.94-2.06-.94L8.5 2.5l-.94 2.06-2.06.94zm10 10l.94 2.06.94-2.06 2.06-.94-2.06-.94-.94-2.06-.94 2.06-2.06.94z\"/><path d=\"M17.41 7.96l-1.37-1.37c-.4-.4-.92-.59-1.43-.59-.52 0-1.04.2-1.43.59L10.3 9.45l-7.72 7.72c-.78.78-.78 2.05 0 2.83L4 21.41c.39.39.9.59 1.41.59.51 0 1.02-.2 1.41-.59l7.78-7.78 2.81-2.81c.8-.78.8-2.07 0-2.86zM5.41 20L4 18.59l7.72-7.72 1.47 1.35L5.41 20z\"/>\n",
              "  </svg>\n",
              "      </button>\n",
              "      \n",
              "  <style>\n",
              "    .colab-df-container {\n",
              "      display:flex;\n",
              "      flex-wrap:wrap;\n",
              "      gap: 12px;\n",
              "    }\n",
              "\n",
              "    .colab-df-convert {\n",
              "      background-color: #E8F0FE;\n",
              "      border: none;\n",
              "      border-radius: 50%;\n",
              "      cursor: pointer;\n",
              "      display: none;\n",
              "      fill: #1967D2;\n",
              "      height: 32px;\n",
              "      padding: 0 0 0 0;\n",
              "      width: 32px;\n",
              "    }\n",
              "\n",
              "    .colab-df-convert:hover {\n",
              "      background-color: #E2EBFA;\n",
              "      box-shadow: 0px 1px 2px rgba(60, 64, 67, 0.3), 0px 1px 3px 1px rgba(60, 64, 67, 0.15);\n",
              "      fill: #174EA6;\n",
              "    }\n",
              "\n",
              "    [theme=dark] .colab-df-convert {\n",
              "      background-color: #3B4455;\n",
              "      fill: #D2E3FC;\n",
              "    }\n",
              "\n",
              "    [theme=dark] .colab-df-convert:hover {\n",
              "      background-color: #434B5C;\n",
              "      box-shadow: 0px 1px 3px 1px rgba(0, 0, 0, 0.15);\n",
              "      filter: drop-shadow(0px 1px 2px rgba(0, 0, 0, 0.3));\n",
              "      fill: #FFFFFF;\n",
              "    }\n",
              "  </style>\n",
              "\n",
              "      <script>\n",
              "        const buttonEl =\n",
              "          document.querySelector('#df-46acacc7-3dba-4eb6-ac85-66593ef58ef4 button.colab-df-convert');\n",
              "        buttonEl.style.display =\n",
              "          google.colab.kernel.accessAllowed ? 'block' : 'none';\n",
              "\n",
              "        async function convertToInteractive(key) {\n",
              "          const element = document.querySelector('#df-46acacc7-3dba-4eb6-ac85-66593ef58ef4');\n",
              "          const dataTable =\n",
              "            await google.colab.kernel.invokeFunction('convertToInteractive',\n",
              "                                                     [key], {});\n",
              "          if (!dataTable) return;\n",
              "\n",
              "          const docLinkHtml = 'Like what you see? Visit the ' +\n",
              "            '<a target=\"_blank\" href=https://colab.research.google.com/notebooks/data_table.ipynb>data table notebook</a>'\n",
              "            + ' to learn more about interactive tables.';\n",
              "          element.innerHTML = '';\n",
              "          dataTable['output_type'] = 'display_data';\n",
              "          await google.colab.output.renderOutput(dataTable, element);\n",
              "          const docLink = document.createElement('div');\n",
              "          docLink.innerHTML = docLinkHtml;\n",
              "          element.appendChild(docLink);\n",
              "        }\n",
              "      </script>\n",
              "    </div>\n",
              "  </div>\n",
              "  "
            ]
          },
          "metadata": {},
          "execution_count": 14
        }
      ],
      "source": [
        "df.head()"
      ]
    },
    {
      "cell_type": "code",
      "source": [
        "df['sentence'].head()"
      ],
      "metadata": {
        "colab": {
          "base_uri": "https://localhost:8080/"
        },
        "id": "p4iL9L80CrmV",
        "outputId": "ef27aa90-4b3e-4ac9-b1a9-b46f81da5d48"
      },
      "execution_count": null,
      "outputs": [
        {
          "output_type": "execute_result",
          "data": {
            "text/plain": [
              "119737    마감이 안좋아요...실밥도 많고 바느질도 부족한 부분이 몇군데 있네요...교환받기 ...\n",
              "72272                               깨끗하게 잘 다듬어져 있어요. 맛도좋고요.\n",
              "158154                    재구매 배송빨라요 길냥이들이 잘먹어요~~ 대용량이라 좋네요~\n",
              "65426                            제품도 빨리 배송해주시고 꼼꼼하게 잘챙겨주셨어요\n",
              "30074                              기타 남 멋지고 예뻐요 여러 사은품도 좋아요\n",
              "Name: sentence, dtype: object"
            ]
          },
          "metadata": {},
          "execution_count": 16
        }
      ]
    },
    {
      "cell_type": "markdown",
      "metadata": {
        "id": "SaZ1DdvNkbgt"
      },
      "source": [
        "### STEP 2. 데이터 전처리 (Preprocessing)"
      ]
    },
    {
      "cell_type": "code",
      "execution_count": null,
      "metadata": {
        "id": "WIySBkPocmLD"
      },
      "outputs": [],
      "source": [
        "review_sentences = df['sentence'].to_list()"
      ]
    },
    {
      "cell_type": "code",
      "execution_count": null,
      "metadata": {
        "id": "Q7j4w1z-tRuy"
      },
      "outputs": [],
      "source": [
        "import re\n",
        "def preprocess(text):\n",
        "  text = re.sub('[-=+,#/\\?:^$~@*\\\"※~&%ㆍ!』\\\\‘|\\(\\)\\[\\]\\<\\>`\\'…》]','', text)\n",
        "  text = re.sub('[ㅠㅎㅋ]','', text)\n",
        "  return text"
      ]
    },
    {
      "cell_type": "code",
      "execution_count": null,
      "metadata": {
        "colab": {
          "base_uri": "https://localhost:8080/"
        },
        "id": "4dUBQnv6tg1f",
        "outputId": "44aebbb9-d3f4-4f2d-eafe-dd779d1d9e2a"
      },
      "outputs": [
        {
          "output_type": "stream",
          "name": "stderr",
          "text": [
            "100%|██████████| 100000/100000 [00:00<00:00, 341135.67it/s]\n"
          ]
        }
      ],
      "source": [
        "normalize_sentence = []\n",
        "for sentence in tqdm(review_sentences):\n",
        "  sentence = preprocess(sentence)\n",
        "  normalize_sentence.append(sentence)\n",
        "\n",
        "df['normalize_sentence'] = normalize_sentence"
      ]
    },
    {
      "cell_type": "code",
      "execution_count": null,
      "metadata": {
        "colab": {
          "base_uri": "https://localhost:8080/",
          "height": 519
        },
        "id": "cqJg23mzudmp",
        "outputId": "699b402c-35c5-4273-94f1-7973cefbf261"
      },
      "outputs": [
        {
          "output_type": "execute_result",
          "data": {
            "text/plain": [
              "       rate  label                                           sentence  \\\n",
              "119737    2     -1  마감이 안좋아요...실밥도 많고 바느질도 부족한 부분이 몇군데 있네요...교환받기 ...   \n",
              "72272     5      1                            깨끗하게 잘 다듬어져 있어요. 맛도좋고요.   \n",
              "158154    4      1                  재구매 배송빨라요 길냥이들이 잘먹어요~~ 대용량이라 좋네요~   \n",
              "65426     5      1                         제품도 빨리 배송해주시고 꼼꼼하게 잘챙겨주셨어요   \n",
              "30074     5      1                           기타 남 멋지고 예뻐요 여러 사은품도 좋아요   \n",
              "...     ...    ...                                                ...   \n",
              "7568      2     -1                                    전에쓰던 오일이 아니네요.ㅠ   \n",
              "83772     2     -1  비닐 고정 똑딱이? 그부분 한번 사용했는데 바로 찢어지네요 깨진다는 표현이 맞나요 ...   \n",
              "118200    5      1                               덕분에 저렴한 가격으로 제작 했네요.   \n",
              "153871    2     -1                             커버가 질이 안좋아서 오래 못쓸것 같아요   \n",
              "168988    2     -1  이거 씹어먹는거 맞나요? 씹어서 물이랑 먹으라 써져서 먹었는데 맛도 없고 입안이 다...   \n",
              "\n",
              "                                       normalize_sentence  \n",
              "119737  마감이 안좋아요...실밥도 많고 바느질도 부족한 부분이 몇군데 있네요...교환받기 ...  \n",
              "72272                             깨끗하게 잘 다듬어져 있어요. 맛도좋고요.  \n",
              "158154                     재구매 배송빨라요 길냥이들이 잘먹어요 대용량이라 좋네요  \n",
              "65426                          제품도 빨리 배송해주시고 꼼꼼하게 잘챙겨주셨어요  \n",
              "30074                            기타 남 멋지고 예뻐요 여러 사은품도 좋아요  \n",
              "...                                                   ...  \n",
              "7568                                       전에쓰던 오일이 아니네요.  \n",
              "83772   비닐 고정 똑딱이 그부분 한번 사용했는데 바로 찢어지네요 깨진다는 표현이 맞나요 아...  \n",
              "118200                               덕분에 저렴한 가격으로 제작 했네요.  \n",
              "153871                             커버가 질이 안좋아서 오래 못쓸것 같아요  \n",
              "168988  이거 씹어먹는거 맞나요 씹어서 물이랑 먹으라 써져서 먹었는데 맛도 없고 입안이 다 ...  \n",
              "\n",
              "[100000 rows x 4 columns]"
            ],
            "text/html": [
              "\n",
              "  <div id=\"df-86254e4c-d002-44c4-ad06-bb811ad3715b\">\n",
              "    <div class=\"colab-df-container\">\n",
              "      <div>\n",
              "<style scoped>\n",
              "    .dataframe tbody tr th:only-of-type {\n",
              "        vertical-align: middle;\n",
              "    }\n",
              "\n",
              "    .dataframe tbody tr th {\n",
              "        vertical-align: top;\n",
              "    }\n",
              "\n",
              "    .dataframe thead th {\n",
              "        text-align: right;\n",
              "    }\n",
              "</style>\n",
              "<table border=\"1\" class=\"dataframe\">\n",
              "  <thead>\n",
              "    <tr style=\"text-align: right;\">\n",
              "      <th></th>\n",
              "      <th>rate</th>\n",
              "      <th>label</th>\n",
              "      <th>sentence</th>\n",
              "      <th>normalize_sentence</th>\n",
              "    </tr>\n",
              "  </thead>\n",
              "  <tbody>\n",
              "    <tr>\n",
              "      <th>119737</th>\n",
              "      <td>2</td>\n",
              "      <td>-1</td>\n",
              "      <td>마감이 안좋아요...실밥도 많고 바느질도 부족한 부분이 몇군데 있네요...교환받기 ...</td>\n",
              "      <td>마감이 안좋아요...실밥도 많고 바느질도 부족한 부분이 몇군데 있네요...교환받기 ...</td>\n",
              "    </tr>\n",
              "    <tr>\n",
              "      <th>72272</th>\n",
              "      <td>5</td>\n",
              "      <td>1</td>\n",
              "      <td>깨끗하게 잘 다듬어져 있어요. 맛도좋고요.</td>\n",
              "      <td>깨끗하게 잘 다듬어져 있어요. 맛도좋고요.</td>\n",
              "    </tr>\n",
              "    <tr>\n",
              "      <th>158154</th>\n",
              "      <td>4</td>\n",
              "      <td>1</td>\n",
              "      <td>재구매 배송빨라요 길냥이들이 잘먹어요~~ 대용량이라 좋네요~</td>\n",
              "      <td>재구매 배송빨라요 길냥이들이 잘먹어요 대용량이라 좋네요</td>\n",
              "    </tr>\n",
              "    <tr>\n",
              "      <th>65426</th>\n",
              "      <td>5</td>\n",
              "      <td>1</td>\n",
              "      <td>제품도 빨리 배송해주시고 꼼꼼하게 잘챙겨주셨어요</td>\n",
              "      <td>제품도 빨리 배송해주시고 꼼꼼하게 잘챙겨주셨어요</td>\n",
              "    </tr>\n",
              "    <tr>\n",
              "      <th>30074</th>\n",
              "      <td>5</td>\n",
              "      <td>1</td>\n",
              "      <td>기타 남 멋지고 예뻐요 여러 사은품도 좋아요</td>\n",
              "      <td>기타 남 멋지고 예뻐요 여러 사은품도 좋아요</td>\n",
              "    </tr>\n",
              "    <tr>\n",
              "      <th>...</th>\n",
              "      <td>...</td>\n",
              "      <td>...</td>\n",
              "      <td>...</td>\n",
              "      <td>...</td>\n",
              "    </tr>\n",
              "    <tr>\n",
              "      <th>7568</th>\n",
              "      <td>2</td>\n",
              "      <td>-1</td>\n",
              "      <td>전에쓰던 오일이 아니네요.ㅠ</td>\n",
              "      <td>전에쓰던 오일이 아니네요.</td>\n",
              "    </tr>\n",
              "    <tr>\n",
              "      <th>83772</th>\n",
              "      <td>2</td>\n",
              "      <td>-1</td>\n",
              "      <td>비닐 고정 똑딱이? 그부분 한번 사용했는데 바로 찢어지네요 깨진다는 표현이 맞나요 ...</td>\n",
              "      <td>비닐 고정 똑딱이 그부분 한번 사용했는데 바로 찢어지네요 깨진다는 표현이 맞나요 아...</td>\n",
              "    </tr>\n",
              "    <tr>\n",
              "      <th>118200</th>\n",
              "      <td>5</td>\n",
              "      <td>1</td>\n",
              "      <td>덕분에 저렴한 가격으로 제작 했네요.</td>\n",
              "      <td>덕분에 저렴한 가격으로 제작 했네요.</td>\n",
              "    </tr>\n",
              "    <tr>\n",
              "      <th>153871</th>\n",
              "      <td>2</td>\n",
              "      <td>-1</td>\n",
              "      <td>커버가 질이 안좋아서 오래 못쓸것 같아요</td>\n",
              "      <td>커버가 질이 안좋아서 오래 못쓸것 같아요</td>\n",
              "    </tr>\n",
              "    <tr>\n",
              "      <th>168988</th>\n",
              "      <td>2</td>\n",
              "      <td>-1</td>\n",
              "      <td>이거 씹어먹는거 맞나요? 씹어서 물이랑 먹으라 써져서 먹었는데 맛도 없고 입안이 다...</td>\n",
              "      <td>이거 씹어먹는거 맞나요 씹어서 물이랑 먹으라 써져서 먹었는데 맛도 없고 입안이 다 ...</td>\n",
              "    </tr>\n",
              "  </tbody>\n",
              "</table>\n",
              "<p>100000 rows × 4 columns</p>\n",
              "</div>\n",
              "      <button class=\"colab-df-convert\" onclick=\"convertToInteractive('df-86254e4c-d002-44c4-ad06-bb811ad3715b')\"\n",
              "              title=\"Convert this dataframe to an interactive table.\"\n",
              "              style=\"display:none;\">\n",
              "        \n",
              "  <svg xmlns=\"http://www.w3.org/2000/svg\" height=\"24px\"viewBox=\"0 0 24 24\"\n",
              "       width=\"24px\">\n",
              "    <path d=\"M0 0h24v24H0V0z\" fill=\"none\"/>\n",
              "    <path d=\"M18.56 5.44l.94 2.06.94-2.06 2.06-.94-2.06-.94-.94-2.06-.94 2.06-2.06.94zm-11 1L8.5 8.5l.94-2.06 2.06-.94-2.06-.94L8.5 2.5l-.94 2.06-2.06.94zm10 10l.94 2.06.94-2.06 2.06-.94-2.06-.94-.94-2.06-.94 2.06-2.06.94z\"/><path d=\"M17.41 7.96l-1.37-1.37c-.4-.4-.92-.59-1.43-.59-.52 0-1.04.2-1.43.59L10.3 9.45l-7.72 7.72c-.78.78-.78 2.05 0 2.83L4 21.41c.39.39.9.59 1.41.59.51 0 1.02-.2 1.41-.59l7.78-7.78 2.81-2.81c.8-.78.8-2.07 0-2.86zM5.41 20L4 18.59l7.72-7.72 1.47 1.35L5.41 20z\"/>\n",
              "  </svg>\n",
              "      </button>\n",
              "      \n",
              "  <style>\n",
              "    .colab-df-container {\n",
              "      display:flex;\n",
              "      flex-wrap:wrap;\n",
              "      gap: 12px;\n",
              "    }\n",
              "\n",
              "    .colab-df-convert {\n",
              "      background-color: #E8F0FE;\n",
              "      border: none;\n",
              "      border-radius: 50%;\n",
              "      cursor: pointer;\n",
              "      display: none;\n",
              "      fill: #1967D2;\n",
              "      height: 32px;\n",
              "      padding: 0 0 0 0;\n",
              "      width: 32px;\n",
              "    }\n",
              "\n",
              "    .colab-df-convert:hover {\n",
              "      background-color: #E2EBFA;\n",
              "      box-shadow: 0px 1px 2px rgba(60, 64, 67, 0.3), 0px 1px 3px 1px rgba(60, 64, 67, 0.15);\n",
              "      fill: #174EA6;\n",
              "    }\n",
              "\n",
              "    [theme=dark] .colab-df-convert {\n",
              "      background-color: #3B4455;\n",
              "      fill: #D2E3FC;\n",
              "    }\n",
              "\n",
              "    [theme=dark] .colab-df-convert:hover {\n",
              "      background-color: #434B5C;\n",
              "      box-shadow: 0px 1px 3px 1px rgba(0, 0, 0, 0.15);\n",
              "      filter: drop-shadow(0px 1px 2px rgba(0, 0, 0, 0.3));\n",
              "      fill: #FFFFFF;\n",
              "    }\n",
              "  </style>\n",
              "\n",
              "      <script>\n",
              "        const buttonEl =\n",
              "          document.querySelector('#df-86254e4c-d002-44c4-ad06-bb811ad3715b button.colab-df-convert');\n",
              "        buttonEl.style.display =\n",
              "          google.colab.kernel.accessAllowed ? 'block' : 'none';\n",
              "\n",
              "        async function convertToInteractive(key) {\n",
              "          const element = document.querySelector('#df-86254e4c-d002-44c4-ad06-bb811ad3715b');\n",
              "          const dataTable =\n",
              "            await google.colab.kernel.invokeFunction('convertToInteractive',\n",
              "                                                     [key], {});\n",
              "          if (!dataTable) return;\n",
              "\n",
              "          const docLinkHtml = 'Like what you see? Visit the ' +\n",
              "            '<a target=\"_blank\" href=https://colab.research.google.com/notebooks/data_table.ipynb>data table notebook</a>'\n",
              "            + ' to learn more about interactive tables.';\n",
              "          element.innerHTML = '';\n",
              "          dataTable['output_type'] = 'display_data';\n",
              "          await google.colab.output.renderOutput(dataTable, element);\n",
              "          const docLink = document.createElement('div');\n",
              "          docLink.innerHTML = docLinkHtml;\n",
              "          element.appendChild(docLink);\n",
              "        }\n",
              "      </script>\n",
              "    </div>\n",
              "  </div>\n",
              "  "
            ]
          },
          "metadata": {},
          "execution_count": 20
        }
      ],
      "source": [
        "df"
      ]
    },
    {
      "cell_type": "code",
      "source": [
        "! pip install konlpy -q"
      ],
      "metadata": {
        "colab": {
          "base_uri": "https://localhost:8080/"
        },
        "id": "EyJW0a9BDdmU",
        "outputId": "6e5d3324-f4bf-4c0f-99dc-72936212d6ef"
      },
      "execution_count": null,
      "outputs": [
        {
          "output_type": "stream",
          "name": "stdout",
          "text": [
            "\u001b[2K     \u001b[90m━━━━━━━━━━━━━━━━━━━━━━━━━━━━━━━━━━━━━━━━\u001b[0m \u001b[32m19.4/19.4 MB\u001b[0m \u001b[31m71.6 MB/s\u001b[0m eta \u001b[36m0:00:00\u001b[0m\n",
            "\u001b[2K     \u001b[90m━━━━━━━━━━━━━━━━━━━━━━━━━━━━━━━━━━━━━━\u001b[0m \u001b[32m465.3/465.3 kB\u001b[0m \u001b[31m44.0 MB/s\u001b[0m eta \u001b[36m0:00:00\u001b[0m\n",
            "\u001b[?25h"
          ]
        }
      ]
    },
    {
      "cell_type": "markdown",
      "metadata": {
        "id": "zjw-KFL0k5A1"
      },
      "source": [
        "### STEP 3. 토큰화 진행 (Tokenization)"
      ]
    },
    {
      "cell_type": "code",
      "execution_count": null,
      "metadata": {
        "colab": {
          "base_uri": "https://localhost:8080/"
        },
        "id": "lEC_sIWJ_bNk",
        "outputId": "e8f1a756-fe70-44d8-f102-6b32b836aab7"
      },
      "outputs": [
        {
          "output_type": "stream",
          "name": "stdout",
          "text": [
            "['마감', '이', '안좋아요', '...', '실밥', '도', '많고', '바느질', '도', '부족한', '부분', '이', '몇', '군데', '있네요', '...', '교환', '받기', '귀찮아서', '그냥', '씁니다']\n"
          ]
        }
      ],
      "source": [
        "! pip install konlpy -q\n",
        "\n",
        "# Okt(Open Korea Text)\n",
        "from konlpy.tag import Okt  \n",
        "okt=Okt() \n",
        "\n",
        "print(okt.morphs(normalize_sentence[0]))"
      ]
    },
    {
      "cell_type": "code",
      "execution_count": null,
      "metadata": {
        "colab": {
          "base_uri": "https://localhost:8080/"
        },
        "id": "FJ55fpYTvT0h",
        "outputId": "95bd81d3-3862-49db-8b75-100bb686cc5d"
      },
      "outputs": [
        {
          "output_type": "stream",
          "name": "stderr",
          "text": [
            "100%|██████████| 100000/100000 [06:59<00:00, 238.54it/s]\n"
          ]
        }
      ],
      "source": [
        "tokenized_sentence = []\n",
        "for sent in tqdm(normalize_sentence):\n",
        "  sent = okt.morphs(sent)\n",
        "  tokenized_sentence.append(sent)"
      ]
    },
    {
      "cell_type": "code",
      "execution_count": null,
      "metadata": {
        "id": "XhUniskUrysU"
      },
      "outputs": [],
      "source": [
        "df['tokenized_sentence'] = tokenized_sentence"
      ]
    },
    {
      "cell_type": "code",
      "execution_count": null,
      "metadata": {
        "colab": {
          "base_uri": "https://localhost:8080/",
          "height": 337
        },
        "id": "AcbWzfYP_bNl",
        "outputId": "d875ef95-99b2-4be5-e9f9-260f5d39ed2f"
      },
      "outputs": [
        {
          "output_type": "execute_result",
          "data": {
            "text/plain": [
              "       rate  label                                           sentence  \\\n",
              "119737    2     -1  마감이 안좋아요...실밥도 많고 바느질도 부족한 부분이 몇군데 있네요...교환받기 ...   \n",
              "72272     5      1                            깨끗하게 잘 다듬어져 있어요. 맛도좋고요.   \n",
              "158154    4      1                  재구매 배송빨라요 길냥이들이 잘먹어요~~ 대용량이라 좋네요~   \n",
              "65426     5      1                         제품도 빨리 배송해주시고 꼼꼼하게 잘챙겨주셨어요   \n",
              "30074     5      1                           기타 남 멋지고 예뻐요 여러 사은품도 좋아요   \n",
              "\n",
              "                                       normalize_sentence  \\\n",
              "119737  마감이 안좋아요...실밥도 많고 바느질도 부족한 부분이 몇군데 있네요...교환받기 ...   \n",
              "72272                             깨끗하게 잘 다듬어져 있어요. 맛도좋고요.   \n",
              "158154                     재구매 배송빨라요 길냥이들이 잘먹어요 대용량이라 좋네요   \n",
              "65426                          제품도 빨리 배송해주시고 꼼꼼하게 잘챙겨주셨어요   \n",
              "30074                            기타 남 멋지고 예뻐요 여러 사은품도 좋아요   \n",
              "\n",
              "                                       tokenized_sentence  \n",
              "119737  [마감, 이, 안좋아요, ..., 실밥, 도, 많고, 바느질, 도, 부족한, 부분,...  \n",
              "72272               [깨끗하게, 잘, 다듬어져, 있어요, ., 맛, 도, 좋고요, .]  \n",
              "158154  [재구매, 배송, 빨라요, 길냥이, 들, 이, 잘, 먹어요, 대, 용량, 이라, 좋네요]  \n",
              "65426              [제품, 도, 빨리, 배송, 해주시고, 꼼꼼하게, 잘, 챙겨주셨어요]  \n",
              "30074                  [기타, 남, 멋지고, 예뻐요, 여러, 사은, 품도, 좋아요]  "
            ],
            "text/html": [
              "\n",
              "  <div id=\"df-5514041d-3a4a-40c8-aecb-15c888a12e41\">\n",
              "    <div class=\"colab-df-container\">\n",
              "      <div>\n",
              "<style scoped>\n",
              "    .dataframe tbody tr th:only-of-type {\n",
              "        vertical-align: middle;\n",
              "    }\n",
              "\n",
              "    .dataframe tbody tr th {\n",
              "        vertical-align: top;\n",
              "    }\n",
              "\n",
              "    .dataframe thead th {\n",
              "        text-align: right;\n",
              "    }\n",
              "</style>\n",
              "<table border=\"1\" class=\"dataframe\">\n",
              "  <thead>\n",
              "    <tr style=\"text-align: right;\">\n",
              "      <th></th>\n",
              "      <th>rate</th>\n",
              "      <th>label</th>\n",
              "      <th>sentence</th>\n",
              "      <th>normalize_sentence</th>\n",
              "      <th>tokenized_sentence</th>\n",
              "    </tr>\n",
              "  </thead>\n",
              "  <tbody>\n",
              "    <tr>\n",
              "      <th>119737</th>\n",
              "      <td>2</td>\n",
              "      <td>-1</td>\n",
              "      <td>마감이 안좋아요...실밥도 많고 바느질도 부족한 부분이 몇군데 있네요...교환받기 ...</td>\n",
              "      <td>마감이 안좋아요...실밥도 많고 바느질도 부족한 부분이 몇군데 있네요...교환받기 ...</td>\n",
              "      <td>[마감, 이, 안좋아요, ..., 실밥, 도, 많고, 바느질, 도, 부족한, 부분,...</td>\n",
              "    </tr>\n",
              "    <tr>\n",
              "      <th>72272</th>\n",
              "      <td>5</td>\n",
              "      <td>1</td>\n",
              "      <td>깨끗하게 잘 다듬어져 있어요. 맛도좋고요.</td>\n",
              "      <td>깨끗하게 잘 다듬어져 있어요. 맛도좋고요.</td>\n",
              "      <td>[깨끗하게, 잘, 다듬어져, 있어요, ., 맛, 도, 좋고요, .]</td>\n",
              "    </tr>\n",
              "    <tr>\n",
              "      <th>158154</th>\n",
              "      <td>4</td>\n",
              "      <td>1</td>\n",
              "      <td>재구매 배송빨라요 길냥이들이 잘먹어요~~ 대용량이라 좋네요~</td>\n",
              "      <td>재구매 배송빨라요 길냥이들이 잘먹어요 대용량이라 좋네요</td>\n",
              "      <td>[재구매, 배송, 빨라요, 길냥이, 들, 이, 잘, 먹어요, 대, 용량, 이라, 좋네요]</td>\n",
              "    </tr>\n",
              "    <tr>\n",
              "      <th>65426</th>\n",
              "      <td>5</td>\n",
              "      <td>1</td>\n",
              "      <td>제품도 빨리 배송해주시고 꼼꼼하게 잘챙겨주셨어요</td>\n",
              "      <td>제품도 빨리 배송해주시고 꼼꼼하게 잘챙겨주셨어요</td>\n",
              "      <td>[제품, 도, 빨리, 배송, 해주시고, 꼼꼼하게, 잘, 챙겨주셨어요]</td>\n",
              "    </tr>\n",
              "    <tr>\n",
              "      <th>30074</th>\n",
              "      <td>5</td>\n",
              "      <td>1</td>\n",
              "      <td>기타 남 멋지고 예뻐요 여러 사은품도 좋아요</td>\n",
              "      <td>기타 남 멋지고 예뻐요 여러 사은품도 좋아요</td>\n",
              "      <td>[기타, 남, 멋지고, 예뻐요, 여러, 사은, 품도, 좋아요]</td>\n",
              "    </tr>\n",
              "  </tbody>\n",
              "</table>\n",
              "</div>\n",
              "      <button class=\"colab-df-convert\" onclick=\"convertToInteractive('df-5514041d-3a4a-40c8-aecb-15c888a12e41')\"\n",
              "              title=\"Convert this dataframe to an interactive table.\"\n",
              "              style=\"display:none;\">\n",
              "        \n",
              "  <svg xmlns=\"http://www.w3.org/2000/svg\" height=\"24px\"viewBox=\"0 0 24 24\"\n",
              "       width=\"24px\">\n",
              "    <path d=\"M0 0h24v24H0V0z\" fill=\"none\"/>\n",
              "    <path d=\"M18.56 5.44l.94 2.06.94-2.06 2.06-.94-2.06-.94-.94-2.06-.94 2.06-2.06.94zm-11 1L8.5 8.5l.94-2.06 2.06-.94-2.06-.94L8.5 2.5l-.94 2.06-2.06.94zm10 10l.94 2.06.94-2.06 2.06-.94-2.06-.94-.94-2.06-.94 2.06-2.06.94z\"/><path d=\"M17.41 7.96l-1.37-1.37c-.4-.4-.92-.59-1.43-.59-.52 0-1.04.2-1.43.59L10.3 9.45l-7.72 7.72c-.78.78-.78 2.05 0 2.83L4 21.41c.39.39.9.59 1.41.59.51 0 1.02-.2 1.41-.59l7.78-7.78 2.81-2.81c.8-.78.8-2.07 0-2.86zM5.41 20L4 18.59l7.72-7.72 1.47 1.35L5.41 20z\"/>\n",
              "  </svg>\n",
              "      </button>\n",
              "      \n",
              "  <style>\n",
              "    .colab-df-container {\n",
              "      display:flex;\n",
              "      flex-wrap:wrap;\n",
              "      gap: 12px;\n",
              "    }\n",
              "\n",
              "    .colab-df-convert {\n",
              "      background-color: #E8F0FE;\n",
              "      border: none;\n",
              "      border-radius: 50%;\n",
              "      cursor: pointer;\n",
              "      display: none;\n",
              "      fill: #1967D2;\n",
              "      height: 32px;\n",
              "      padding: 0 0 0 0;\n",
              "      width: 32px;\n",
              "    }\n",
              "\n",
              "    .colab-df-convert:hover {\n",
              "      background-color: #E2EBFA;\n",
              "      box-shadow: 0px 1px 2px rgba(60, 64, 67, 0.3), 0px 1px 3px 1px rgba(60, 64, 67, 0.15);\n",
              "      fill: #174EA6;\n",
              "    }\n",
              "\n",
              "    [theme=dark] .colab-df-convert {\n",
              "      background-color: #3B4455;\n",
              "      fill: #D2E3FC;\n",
              "    }\n",
              "\n",
              "    [theme=dark] .colab-df-convert:hover {\n",
              "      background-color: #434B5C;\n",
              "      box-shadow: 0px 1px 3px 1px rgba(0, 0, 0, 0.15);\n",
              "      filter: drop-shadow(0px 1px 2px rgba(0, 0, 0, 0.3));\n",
              "      fill: #FFFFFF;\n",
              "    }\n",
              "  </style>\n",
              "\n",
              "      <script>\n",
              "        const buttonEl =\n",
              "          document.querySelector('#df-5514041d-3a4a-40c8-aecb-15c888a12e41 button.colab-df-convert');\n",
              "        buttonEl.style.display =\n",
              "          google.colab.kernel.accessAllowed ? 'block' : 'none';\n",
              "\n",
              "        async function convertToInteractive(key) {\n",
              "          const element = document.querySelector('#df-5514041d-3a4a-40c8-aecb-15c888a12e41');\n",
              "          const dataTable =\n",
              "            await google.colab.kernel.invokeFunction('convertToInteractive',\n",
              "                                                     [key], {});\n",
              "          if (!dataTable) return;\n",
              "\n",
              "          const docLinkHtml = 'Like what you see? Visit the ' +\n",
              "            '<a target=\"_blank\" href=https://colab.research.google.com/notebooks/data_table.ipynb>data table notebook</a>'\n",
              "            + ' to learn more about interactive tables.';\n",
              "          element.innerHTML = '';\n",
              "          dataTable['output_type'] = 'display_data';\n",
              "          await google.colab.output.renderOutput(dataTable, element);\n",
              "          const docLink = document.createElement('div');\n",
              "          docLink.innerHTML = docLinkHtml;\n",
              "          element.appendChild(docLink);\n",
              "        }\n",
              "      </script>\n",
              "    </div>\n",
              "  </div>\n",
              "  "
            ]
          },
          "metadata": {},
          "execution_count": 26
        }
      ],
      "source": [
        "df.head()"
      ]
    },
    {
      "cell_type": "code",
      "execution_count": null,
      "metadata": {
        "colab": {
          "base_uri": "https://localhost:8080/",
          "height": 448
        },
        "id": "_KM7W6EaOLCi",
        "outputId": "358af704-29eb-4959-d75e-00affb7f2b73"
      },
      "outputs": [
        {
          "output_type": "execute_result",
          "data": {
            "text/plain": [
              "<Axes: >"
            ]
          },
          "metadata": {},
          "execution_count": 27
        },
        {
          "output_type": "display_data",
          "data": {
            "text/plain": [
              "<Figure size 640x480 with 1 Axes>"
            ],
            "image/png": "[encoded data removed]"
          },
          "metadata": {}
        }
      ],
      "source": [
        "from sklearn.model_selection import train_test_split\n",
        "\n",
        "train_df, test_df = train_test_split(df, test_size =0.2, random_state= 42)\n",
        "train_df['label'].hist()\n",
        "test_df['label'].hist()"
      ]
    },
    {
      "cell_type": "markdown",
      "metadata": {
        "id": "NhZtdagGsTVe"
      },
      "source": [
        "### STEP 4. 벡터화 진행 (Vectorization)"
      ]
    },
    {
      "cell_type": "markdown",
      "metadata": {
        "id": "867JeaHnsk56"
      },
      "source": [
        "#### Method 1. Word2Vec"
      ]
    },
    {
      "cell_type": "code",
      "execution_count": null,
      "metadata": {
        "id": "AYfQVmjLkRnX"
      },
      "outputs": [],
      "source": [
        "from gensim.models import Word2Vec"
      ]
    },
    {
      "cell_type": "code",
      "source": [
        "train_df.head()"
      ],
      "metadata": {
        "colab": {
          "base_uri": "https://localhost:8080/",
          "height": 337
        },
        "id": "rhZIii5NHMSI",
        "outputId": "848d52f2-ac44-4e44-ce9b-aea32fb321d6"
      },
      "execution_count": null,
      "outputs": [
        {
          "output_type": "execute_result",
          "data": {
            "text/plain": [
              "       rate  label                                           sentence  \\\n",
              "71722     1     -1            옷이 작아요. 불편하고 더워요. 차라리 여성분들이 입기 좋은듯 합니다.   \n",
              "145982    5      1  재구매 역시나 비밀의 공간을 창출하는덴 이만한 선반이 없어보입니다 정말 맘에 쏙드네...   \n",
              "150313    5      1                            유리인줄알았는데 연두색뚜껑은 플라스틱이에요   \n",
              "101274    2     -1      포장이 ..완전별로네요.. 물건다흔들려서왓네요 이거만전문으로파실텐데 이해가안가네요   \n",
              "189941    2     -1                 의자 하나는 정상인데 하나는 흔들려요 다리 길이가 안맞아요ㅜㅜ   \n",
              "\n",
              "                                       normalize_sentence  \\\n",
              "71722             옷이 작아요. 불편하고 더워요. 차라리 여성분들이 입기 좋은듯 합니다.   \n",
              "145982  재구매 역시나 비밀의 공간을 창출하는덴 이만한 선반이 없어보입니다 정말 맘에 쏙드네...   \n",
              "150313                            유리인줄알았는데 연두색뚜껑은 플라스틱이에요   \n",
              "101274      포장이 ..완전별로네요.. 물건다흔들려서왓네요 이거만전문으로파실텐데 이해가안가네요   \n",
              "189941                 의자 하나는 정상인데 하나는 흔들려요 다리 길이가 안맞아요ㅜㅜ   \n",
              "\n",
              "                                       tokenized_sentence  \n",
              "71722   [옷, 이, 작아요, ., 불편하고, 더워요, ., 차라리, 여성, 분들, 이, 입...  \n",
              "145982  [재구매, 역시, 나, 비밀, 의, 공간, 을, 창, 출하, 는, 덴, 이만, 한,...  \n",
              "150313            [유리, 인, 줄, 알았는데, 연두색, 뚜껑, 은, 플라스틱, 이에요]  \n",
              "101274  [포장, 이, .., 완전, 별로, 네, 요, .., 물건, 다, 흔들려서, 왓, ...  \n",
              "189941  [의자, 하나, 는, 정상, 인데, 하나, 는, 흔들려요, 다리, 길이, 가, 안,...  "
            ],
            "text/html": [
              "\n",
              "  <div id=\"df-523d3e0e-9f06-4ba0-832e-b666b6383cd9\">\n",
              "    <div class=\"colab-df-container\">\n",
              "      <div>\n",
              "<style scoped>\n",
              "    .dataframe tbody tr th:only-of-type {\n",
              "        vertical-align: middle;\n",
              "    }\n",
              "\n",
              "    .dataframe tbody tr th {\n",
              "        vertical-align: top;\n",
              "    }\n",
              "\n",
              "    .dataframe thead th {\n",
              "        text-align: right;\n",
              "    }\n",
              "</style>\n",
              "<table border=\"1\" class=\"dataframe\">\n",
              "  <thead>\n",
              "    <tr style=\"text-align: right;\">\n",
              "      <th></th>\n",
              "      <th>rate</th>\n",
              "      <th>label</th>\n",
              "      <th>sentence</th>\n",
              "      <th>normalize_sentence</th>\n",
              "      <th>tokenized_sentence</th>\n",
              "    </tr>\n",
              "  </thead>\n",
              "  <tbody>\n",
              "    <tr>\n",
              "      <th>71722</th>\n",
              "      <td>1</td>\n",
              "      <td>-1</td>\n",
              "      <td>옷이 작아요. 불편하고 더워요. 차라리 여성분들이 입기 좋은듯 합니다.</td>\n",
              "      <td>옷이 작아요. 불편하고 더워요. 차라리 여성분들이 입기 좋은듯 합니다.</td>\n",
              "      <td>[옷, 이, 작아요, ., 불편하고, 더워요, ., 차라리, 여성, 분들, 이, 입...</td>\n",
              "    </tr>\n",
              "    <tr>\n",
              "      <th>145982</th>\n",
              "      <td>5</td>\n",
              "      <td>1</td>\n",
              "      <td>재구매 역시나 비밀의 공간을 창출하는덴 이만한 선반이 없어보입니다 정말 맘에 쏙드네...</td>\n",
              "      <td>재구매 역시나 비밀의 공간을 창출하는덴 이만한 선반이 없어보입니다 정말 맘에 쏙드네...</td>\n",
              "      <td>[재구매, 역시, 나, 비밀, 의, 공간, 을, 창, 출하, 는, 덴, 이만, 한,...</td>\n",
              "    </tr>\n",
              "    <tr>\n",
              "      <th>150313</th>\n",
              "      <td>5</td>\n",
              "      <td>1</td>\n",
              "      <td>유리인줄알았는데 연두색뚜껑은 플라스틱이에요</td>\n",
              "      <td>유리인줄알았는데 연두색뚜껑은 플라스틱이에요</td>\n",
              "      <td>[유리, 인, 줄, 알았는데, 연두색, 뚜껑, 은, 플라스틱, 이에요]</td>\n",
              "    </tr>\n",
              "    <tr>\n",
              "      <th>101274</th>\n",
              "      <td>2</td>\n",
              "      <td>-1</td>\n",
              "      <td>포장이 ..완전별로네요.. 물건다흔들려서왓네요 이거만전문으로파실텐데 이해가안가네요</td>\n",
              "      <td>포장이 ..완전별로네요.. 물건다흔들려서왓네요 이거만전문으로파실텐데 이해가안가네요</td>\n",
              "      <td>[포장, 이, .., 완전, 별로, 네, 요, .., 물건, 다, 흔들려서, 왓, ...</td>\n",
              "    </tr>\n",
              "    <tr>\n",
              "      <th>189941</th>\n",
              "      <td>2</td>\n",
              "      <td>-1</td>\n",
              "      <td>의자 하나는 정상인데 하나는 흔들려요 다리 길이가 안맞아요ㅜㅜ</td>\n",
              "      <td>의자 하나는 정상인데 하나는 흔들려요 다리 길이가 안맞아요ㅜㅜ</td>\n",
              "      <td>[의자, 하나, 는, 정상, 인데, 하나, 는, 흔들려요, 다리, 길이, 가, 안,...</td>\n",
              "    </tr>\n",
              "  </tbody>\n",
              "</table>\n",
              "</div>\n",
              "      <button class=\"colab-df-convert\" onclick=\"convertToInteractive('df-523d3e0e-9f06-4ba0-832e-b666b6383cd9')\"\n",
              "              title=\"Convert this dataframe to an interactive table.\"\n",
              "              style=\"display:none;\">\n",
              "        \n",
              "  <svg xmlns=\"http://www.w3.org/2000/svg\" height=\"24px\"viewBox=\"0 0 24 24\"\n",
              "       width=\"24px\">\n",
              "    <path d=\"M0 0h24v24H0V0z\" fill=\"none\"/>\n",
              "    <path d=\"M18.56 5.44l.94 2.06.94-2.06 2.06-.94-2.06-.94-.94-2.06-.94 2.06-2.06.94zm-11 1L8.5 8.5l.94-2.06 2.06-.94-2.06-.94L8.5 2.5l-.94 2.06-2.06.94zm10 10l.94 2.06.94-2.06 2.06-.94-2.06-.94-.94-2.06-.94 2.06-2.06.94z\"/><path d=\"M17.41 7.96l-1.37-1.37c-.4-.4-.92-.59-1.43-.59-.52 0-1.04.2-1.43.59L10.3 9.45l-7.72 7.72c-.78.78-.78 2.05 0 2.83L4 21.41c.39.39.9.59 1.41.59.51 0 1.02-.2 1.41-.59l7.78-7.78 2.81-2.81c.8-.78.8-2.07 0-2.86zM5.41 20L4 18.59l7.72-7.72 1.47 1.35L5.41 20z\"/>\n",
              "  </svg>\n",
              "      </button>\n",
              "      \n",
              "  <style>\n",
              "    .colab-df-container {\n",
              "      display:flex;\n",
              "      flex-wrap:wrap;\n",
              "      gap: 12px;\n",
              "    }\n",
              "\n",
              "    .colab-df-convert {\n",
              "      background-color: #E8F0FE;\n",
              "      border: none;\n",
              "      border-radius: 50%;\n",
              "      cursor: pointer;\n",
              "      display: none;\n",
              "      fill: #1967D2;\n",
              "      height: 32px;\n",
              "      padding: 0 0 0 0;\n",
              "      width: 32px;\n",
              "    }\n",
              "\n",
              "    .colab-df-convert:hover {\n",
              "      background-color: #E2EBFA;\n",
              "      box-shadow: 0px 1px 2px rgba(60, 64, 67, 0.3), 0px 1px 3px 1px rgba(60, 64, 67, 0.15);\n",
              "      fill: #174EA6;\n",
              "    }\n",
              "\n",
              "    [theme=dark] .colab-df-convert {\n",
              "      background-color: #3B4455;\n",
              "      fill: #D2E3FC;\n",
              "    }\n",
              "\n",
              "    [theme=dark] .colab-df-convert:hover {\n",
              "      background-color: #434B5C;\n",
              "      box-shadow: 0px 1px 3px 1px rgba(0, 0, 0, 0.15);\n",
              "      filter: drop-shadow(0px 1px 2px rgba(0, 0, 0, 0.3));\n",
              "      fill: #FFFFFF;\n",
              "    }\n",
              "  </style>\n",
              "\n",
              "      <script>\n",
              "        const buttonEl =\n",
              "          document.querySelector('#df-523d3e0e-9f06-4ba0-832e-b666b6383cd9 button.colab-df-convert');\n",
              "        buttonEl.style.display =\n",
              "          google.colab.kernel.accessAllowed ? 'block' : 'none';\n",
              "\n",
              "        async function convertToInteractive(key) {\n",
              "          const element = document.querySelector('#df-523d3e0e-9f06-4ba0-832e-b666b6383cd9');\n",
              "          const dataTable =\n",
              "            await google.colab.kernel.invokeFunction('convertToInteractive',\n",
              "                                                     [key], {});\n",
              "          if (!dataTable) return;\n",
              "\n",
              "          const docLinkHtml = 'Like what you see? Visit the ' +\n",
              "            '<a target=\"_blank\" href=https://colab.research.google.com/notebooks/data_table.ipynb>data table notebook</a>'\n",
              "            + ' to learn more about interactive tables.';\n",
              "          element.innerHTML = '';\n",
              "          dataTable['output_type'] = 'display_data';\n",
              "          await google.colab.output.renderOutput(dataTable, element);\n",
              "          const docLink = document.createElement('div');\n",
              "          docLink.innerHTML = docLinkHtml;\n",
              "          element.appendChild(docLink);\n",
              "        }\n",
              "      </script>\n",
              "    </div>\n",
              "  </div>\n",
              "  "
            ]
          },
          "metadata": {},
          "execution_count": 30
        }
      ]
    },
    {
      "cell_type": "code",
      "execution_count": null,
      "metadata": {
        "id": "AQr7Cfz_uvlI"
      },
      "outputs": [],
      "source": [
        "train_sentence = train_df['tokenized_sentence'].to_list()\n",
        "test_sentence = test_df['tokenized_sentence'].to_list()"
      ]
    },
    {
      "cell_type": "code",
      "source": [
        "train_sentence[0]"
      ],
      "metadata": {
        "colab": {
          "base_uri": "https://localhost:8080/"
        },
        "id": "uUnocxUvHTgf",
        "outputId": "458164fc-8b16-4be7-a696-2c182f0df1bc"
      },
      "execution_count": null,
      "outputs": [
        {
          "output_type": "execute_result",
          "data": {
            "text/plain": [
              "['옷',\n",
              " '이',\n",
              " '작아요',\n",
              " '.',\n",
              " '불편하고',\n",
              " '더워요',\n",
              " '.',\n",
              " '차라리',\n",
              " '여성',\n",
              " '분들',\n",
              " '이',\n",
              " '입기',\n",
              " '좋은',\n",
              " '듯',\n",
              " '합니다',\n",
              " '.']"
            ]
          },
          "metadata": {},
          "execution_count": 33
        }
      ]
    },
    {
      "cell_type": "code",
      "execution_count": null,
      "metadata": {
        "colab": {
          "base_uri": "https://localhost:8080/"
        },
        "id": "GpZnvdRErugm",
        "outputId": "6a74279a-34b4-4d48-9559-f786fea2099d"
      },
      "outputs": [
        {
          "output_type": "stream",
          "name": "stdout",
          "text": [
            "CPU times: user 18.6 s, sys: 131 ms, total: 18.7 s\n",
            "Wall time: 11.4 s\n"
          ]
        }
      ],
      "source": [
        "%%time\n",
        "model = Word2Vec(\n",
        "    sentences=train_sentence,\n",
        "    vector_size=100, \n",
        "    window=5, \n",
        "    # sg=1 (기본값은 0, 가운데 이미지, 가운데 주변 이비지 등  )\n",
        "    min_count=1, # 빈도수 설정. 이 빈도 이상인 경우만 학습에 포함 설정 가능\n",
        "    workers=4,   # CPU의 프로세스 개수. 많을수록 학습이 빨라짐\n",
        "    seed=random_seed)"
      ]
    },
    {
      "cell_type": "code",
      "execution_count": null,
      "metadata": {
        "id": "3pv0UKaV5scK"
      },
      "outputs": [],
      "source": [
        "model.build_vocab([['<UNK>']],update=True)"
      ]
    },
    {
      "cell_type": "code",
      "execution_count": null,
      "metadata": {
        "id": "FQwvqNfdr9ge"
      },
      "outputs": [],
      "source": [
        "model.save(\"word2vec.model\")"
      ]
    },
    {
      "cell_type": "code",
      "execution_count": null,
      "metadata": {
        "id": "YVnnb8XKsOAl"
      },
      "outputs": [],
      "source": [
        "vocab = list(model.wv.index_to_key)"
      ]
    },
    {
      "cell_type": "code",
      "source": [
        "model.wv.key_to_index"
      ],
      "metadata": {
        "colab": {
          "base_uri": "https://localhost:8080/"
        },
        "id": "LK-PDGlXI_Vi",
        "outputId": "d106328a-f53c-477a-ccfd-e0d89eaf1207"
      },
      "execution_count": null,
      "outputs": [
        {
          "output_type": "execute_result",
          "data": {
            "text/plain": [
              "{'.': 0,\n",
              " '이': 1,\n",
              " '도': 2,\n",
              " '에': 3,\n",
              " '가': 4,\n",
              " '잘': 5,\n",
              " '너무': 6,\n",
              " '배송': 7,\n",
              " '..': 8,\n",
              " '요': 9,\n",
              " '은': 10,\n",
              " '좋아요': 11,\n",
              " '안': 12,\n",
              " '는': 13,\n",
              " '재구매': 14,\n",
              " '구매': 15,\n",
              " '...': 16,\n",
              " '다': 17,\n",
              " '사용': 18,\n",
              " '로': 19,\n",
              " '을': 20,\n",
              " '으로': 21,\n",
              " '그냥': 22,\n",
              " '제품': 23,\n",
              " '한': 24,\n",
              " '했는데': 25,\n",
              " '가격': 26,\n",
              " '보다': 27,\n",
              " '생각': 28,\n",
              " '하고': 29,\n",
              " '입니다': 30,\n",
              " '같아요': 31,\n",
              " '좀': 32,\n",
              " '주문': 33,\n",
              " '맛': 34,\n",
              " '고': 35,\n",
              " '많이': 36,\n",
              " '더': 37,\n",
              " '를': 38,\n",
              " '해서': 39,\n",
              " '못': 40,\n",
              " '별로': 41,\n",
              " '것': 42,\n",
              " '때': 43,\n",
              " '사이즈': 44,\n",
              " '만': 45,\n",
              " '들': 46,\n",
              " '개': 47,\n",
              " '포장': 48,\n",
              " '에서': 49,\n",
              " '서': 50,\n",
              " '합니다': 51,\n",
              " '네': 52,\n",
              " '거': 53,\n",
              " '좋네요': 54,\n",
              " '상품': 55,\n",
              " '했어요': 56,\n",
              " '빠르고': 57,\n",
              " '정말': 58,\n",
              " '다른': 59,\n",
              " '냄새': 60,\n",
              " '부분': 61,\n",
              " '제': 62,\n",
              " '인데': 63,\n",
              " '이라': 64,\n",
              " '아주': 65,\n",
              " '하나': 66,\n",
              " '넘': 67,\n",
              " '나': 68,\n",
              " '좋습니다': 69,\n",
              " '두': 70,\n",
              " '샀는데': 71,\n",
              " '만족합니다': 72,\n",
              " '진짜': 73,\n",
              " '저': 74,\n",
              " '조금': 75,\n",
              " '구입': 76,\n",
              " '할': 77,\n",
              " '좋은': 78,\n",
              " '또': 79,\n",
              " '반품': 80,\n",
              " '맘': 81,\n",
              " '딱': 82,\n",
              " '정도': 83,\n",
              " 'ㅜㅜ': 84,\n",
              " '아이': 85,\n",
              " '느낌': 86,\n",
              " '중': 87,\n",
              " '아직': 88,\n",
              " '해': 89,\n",
              " '완전': 90,\n",
              " '엄청': 91,\n",
              " '좋고': 92,\n",
              " '2': 93,\n",
              " '감사합니다': 94,\n",
              " '과': 95,\n",
              " '게': 96,\n",
              " '....': 97,\n",
              " '의': 98,\n",
              " '용': 99,\n",
              " '비': 100,\n",
              " '있어요': 101,\n",
              " '처음': 102,\n",
              " '면': 103,\n",
              " 'ㅜ': 104,\n",
              " '않고': 105,\n",
              " '사진': 106,\n",
              " '디자인': 107,\n",
              " '선물': 108,\n",
              " '상태': 109,\n",
              " '지': 110,\n",
              " '그': 111,\n",
              " '써': 112,\n",
              " '라': 113,\n",
              " '한번': 114,\n",
              " '보고': 115,\n",
              " '인': 116,\n",
              " '빠른': 117,\n",
              " '효과': 118,\n",
              " '추천': 119,\n",
              " '전': 120,\n",
              " '구': 121,\n",
              " '대비': 122,\n",
              " '다시': 123,\n",
              " '에요': 124,\n",
              " '크기': 125,\n",
              " '하': 126,\n",
              " '향': 127,\n",
              " '왔어요': 128,\n",
              " '하기': 129,\n",
              " '색상': 130,\n",
              " '이네': 131,\n",
              " '걸': 132,\n",
              " '적': 133,\n",
              " '하네요': 134,\n",
              " '수': 135,\n",
              " '계속': 136,\n",
              " '어': 137,\n",
              " '에는': 138,\n",
              " '까지': 139,\n",
              " '아': 140,\n",
              " '3': 141,\n",
              " '물건': 142,\n",
              " '예요': 143,\n",
              " '교환': 144,\n",
              " '1': 145,\n",
              " '엔': 146,\n",
              " '바로': 147,\n",
              " '했습니다': 148,\n",
              " '여': 149,\n",
              " '마음': 150,\n",
              " '랑': 151,\n",
              " '없이': 152,\n",
              " '이에요': 153,\n",
              " '가성': 154,\n",
              " '들어요': 155,\n",
              " '번': 156,\n",
              " '맛있어요': 157,\n",
              " '다음': 158,\n",
              " '항상': 159,\n",
              " '박스': 160,\n",
              " '있어서': 161,\n",
              " '분': 162,\n",
              " '대': 163,\n",
              " '집': 164,\n",
              " '듯': 165,\n",
              " '쓰고': 166,\n",
              " '실망': 167,\n",
              " '하세요': 168,\n",
              " '돈': 169,\n",
              " '설치': 170,\n",
              " '만족': 171,\n",
              " '아기': 172,\n",
              " 'ㅡㅡ': 173,\n",
              " '조립': 174,\n",
              " '택배': 175,\n",
              " '이랑': 176,\n",
              " '같이': 177,\n",
              " '왔네요': 178,\n",
              " '없고': 179,\n",
              " '곳': 180,\n",
              " '불량': 181,\n",
              " '옷': 182,\n",
              " '색': 183,\n",
              " '후': 184,\n",
              " '않아요': 185,\n",
              " '이번': 186,\n",
              " '하는': 187,\n",
              " '있습니다': 188,\n",
              " '그리고': 189,\n",
              " '이나': 190,\n",
              " '같네요': 191,\n",
              " '와': 192,\n",
              " '그래도': 193,\n",
              " '주': 194,\n",
              " '귀찮아서': 195,\n",
              " '달': 196,\n",
              " '보니': 197,\n",
              " '에도': 198,\n",
              " '니': 199,\n",
              " '오래': 200,\n",
              " '없어요': 201,\n",
              " '여기': 202,\n",
              " '근데': 203,\n",
              " '마감': 204,\n",
              " '건지': 205,\n",
              " '먹고': 206,\n",
              " '물': 207,\n",
              " '없네요': 208,\n",
              " '사': 209,\n",
              " '기': 210,\n",
              " '감': 211,\n",
              " '샀어요': 212,\n",
              " '역시': 213,\n",
              " '하는데': 214,\n",
              " '일단': 215,\n",
              " '최고': 216,\n",
              " '먹어': 217,\n",
              " '내': 218,\n",
              " '이뻐요': 219,\n",
              " '같은': 220,\n",
              " '확인': 221,\n",
              " '처럼': 222,\n",
              " '좋은데': 223,\n",
              " '재질': 224,\n",
              " '력': 225,\n",
              " '왜': 226,\n",
              " '손': 227,\n",
              " '좋아서': 228,\n",
              " '별': 229,\n",
              " '매': 230,\n",
              " '받았습니다': 231,\n",
              " '일': 232,\n",
              " '매우': 233,\n",
              " '기분': 234,\n",
              " '뭐': 235,\n",
              " '편하고': 236,\n",
              " '않네요': 237,\n",
              " '착용': 238,\n",
              " '있는': 239,\n",
              " '후기': 240,\n",
              " '쓰기': 241,\n",
              " '줄': 242,\n",
              " '싼': 243,\n",
              " '와서': 244,\n",
              " '같습니다': 245,\n",
              " '이건': 246,\n",
              " '약간': 247,\n",
              " '굿': 248,\n",
              " '큰': 249,\n",
              " '이런': 250,\n",
              " '예뻐요': 251,\n",
              " '시간': 252,\n",
              " '때문': 253,\n",
              " '있네요': 254,\n",
              " '시': 255,\n",
              " '씁니다': 256,\n",
              " '문': 257,\n",
              " '날': 258,\n",
              " '믿고': 259,\n",
              " '만에': 260,\n",
              " '품질': 261,\n",
              " '빨리': 262,\n",
              " '했네요': 263,\n",
              " '되어': 264,\n",
              " '없어서': 265,\n",
              " '인지': 266,\n",
              " '알': 267,\n",
              " '아쉽네요': 268,\n",
              " '고정': 269,\n",
              " '는데': 270,\n",
              " '이렇게': 271,\n",
              " '판매': 272,\n",
              " '앞': 273,\n",
              " '늘': 274,\n",
              " '먹기': 275,\n",
              " '라서': 276,\n",
              " '저렴하게': 277,\n",
              " '피부': 278,\n",
              " '하루': 279,\n",
              " '길이': 280,\n",
              " '오': 281,\n",
              " '문제': 282,\n",
              " '소리': 283,\n",
              " '저렴한': 284,\n",
              " '하면': 285,\n",
              " '장': 286,\n",
              " '지만': 287,\n",
              " '양': 288,\n",
              " '점': 289,\n",
              " '여름': 290,\n",
              " '4': 291,\n",
              " '리뷰': 292,\n",
              " '하지만': 293,\n",
              " '된': 294,\n",
              " '작아요': 295,\n",
              " '전혀': 296,\n",
              " '시켰는데': 297,\n",
              " '세': 298,\n",
              " '최악': 299,\n",
              " '여러': 300,\n",
              " '건': 301,\n",
              " '처리': 302,\n",
              " '자': 303,\n",
              " '좋': 304,\n",
              " '너': 305,\n",
              " '햇': 306,\n",
              " '말': 307,\n",
              " '머리': 308,\n",
              " '함': 309,\n",
              " '깔끔하고': 310,\n",
              " '씩': 311,\n",
              " '뚜껑': 312,\n",
              " '자꾸': 313,\n",
              " '하지': 314,\n",
              " '괜찮아요': 315,\n",
              " '튼튼하고': 316,\n",
              " '되네요': 317,\n",
              " '그래요': 318,\n",
              " 'ㅡ': 319,\n",
              " '마다': 320,\n",
              " '원래': 321,\n",
              " '그런지': 322,\n",
              " '살짝': 323,\n",
              " '걱정': 324,\n",
              " '잘못': 325,\n",
              " '파세요': 326,\n",
              " '제대로': 327,\n",
              " '있고': 328,\n",
              " '편해요': 329,\n",
              " '봤는데': 330,\n",
              " '신경': 331,\n",
              " '해도': 332,\n",
              " '않아서': 333,\n",
              " '먼지': 334,\n",
              " '하니': 335,\n",
              " '세탁': 336,\n",
              " '되고': 337,\n",
              " '임': 338,\n",
              " '이고': 339,\n",
              " '색깔': 340,\n",
              " '비추': 341,\n",
              " '사서': 342,\n",
              " '기대': 343,\n",
              " '설명': 344,\n",
              " '째': 345,\n",
              " '추가': 346,\n",
              " '이상': 347,\n",
              " '상': 348,\n",
              " '케이스': 349,\n",
              " '몇': 350,\n",
              " '나서': 351,\n",
              " '도착': 352,\n",
              " '성': 353,\n",
              " '달라': 354,\n",
              " '만족해요': 355,\n",
              " '시켜': 356,\n",
              " '구멍': 357,\n",
              " '데': 358,\n",
              " '통': 359,\n",
              " '금방': 360,\n",
              " '그런': 361,\n",
              " '먹어요': 362,\n",
              " '반': 363,\n",
              " '사람': 364,\n",
              " '연락': 365,\n",
              " '커서': 366,\n",
              " '애': 367,\n",
              " '자주': 368,\n",
              " '라고': 369,\n",
              " '해요': 370,\n",
              " '작은': 371,\n",
              " '재': 372,\n",
              " '그래서': 373,\n",
              " '충전': 374,\n",
              " '작아서': 375,\n",
              " ';;': 376,\n",
              " '거의': 377,\n",
              " '부터': 378,\n",
              " '좋았어요': 379,\n",
              " '하게': 380,\n",
              " '빨': 381,\n",
              " '마세요': 382,\n",
              " '했지만': 383,\n",
              " '만큼': 384,\n",
              " '아니고': 385,\n",
              " '님': 386,\n",
              " '해야': 387,\n",
              " '이쁘고': 388,\n",
              " '속': 389,\n",
              " '5': 390,\n",
              " '저렴하고': 391,\n",
              " '끈': 392,\n",
              " '두번째': 393,\n",
              " '허': 394,\n",
              " '가볍고': 395,\n",
              " '안나': 396,\n",
              " '걍': 397,\n",
              " '짱': 398,\n",
              " '커버': 399,\n",
              " '참고': 400,\n",
              " '봐요': 401,\n",
              " '질': 402,\n",
              " '새': 403,\n",
              " '참': 404,\n",
              " '살': 405,\n",
              " '지금': 406,\n",
              " '알았는데': 407,\n",
              " '되서': 408,\n",
              " '다리': 409,\n",
              " '의사': 410,\n",
              " '쓸': 411,\n",
              " '고민': 412,\n",
              " '아니라': 413,\n",
              " '화면': 414,\n",
              " '제일': 415,\n",
              " '입': 416,\n",
              " '접착': 417,\n",
              " '크고': 418,\n",
              " '듭니': 419,\n",
              " '하려고': 420,\n",
              " '있어': 421,\n",
              " '유통': 422,\n",
              " '배송비': 423,\n",
              " '막': 424,\n",
              " '환불': 425,\n",
              " '예쁘고': 426,\n",
              " '정리': 427,\n",
              " '빨라요': 428,\n",
              " '있는데': 429,\n",
              " '모두': 430,\n",
              " '받고': 431,\n",
              " '.....': 432,\n",
              " '작고': 433,\n",
              " '한테': 434,\n",
              " '좋아': 435,\n",
              " '일주일': 436,\n",
              " '불편해요': 437,\n",
              " '기한': 438,\n",
              " '발': 439,\n",
              " '받았어요': 440,\n",
              " '비해': 441,\n",
              " '엄마': 442,\n",
              " '다만': 443,\n",
              " '음': 444,\n",
              " '니까': 445,\n",
              " '따로': 446,\n",
              " '맛있게': 447,\n",
              " '그대로': 448,\n",
              " '절대': 449,\n",
              " '등': 450,\n",
              " '이용': 451,\n",
              " '보': 452,\n",
              " '자체': 453,\n",
              " '됩니다': 454,\n",
              " '의자': 455,\n",
              " '티': 456,\n",
              " '안되고': 457,\n",
              " '같은데': 458,\n",
              " '같아서': 459,\n",
              " '운동': 460,\n",
              " '않아': 461,\n",
              " '습': 462,\n",
              " '타': 463,\n",
              " '없는': 464,\n",
              " '여서': 465,\n",
              " '품': 466,\n",
              " '전화': 467,\n",
              " '많고': 468,\n",
              " '할게요': 469,\n",
              " '매번': 470,\n",
              " '구성': 471,\n",
              " '좋아해요': 472,\n",
              " '퀄리티': 473,\n",
              " '모르겠어요': 474,\n",
              " '눈': 475,\n",
              " '괜찮은': 476,\n",
              " '쓰는': 477,\n",
              " '비닐': 478,\n",
              " '이라고': 479,\n",
              " '힘': 480,\n",
              " '싸게': 481,\n",
              " '나사': 482,\n",
              " '바지': 483,\n",
              " '바닥': 484,\n",
              " '꺼': 485,\n",
              " '고기': 486,\n",
              " '기존': 487,\n",
              " '플라스틱': 488,\n",
              " '받아': 489,\n",
              " '어떻게': 490,\n",
              " '차이': 491,\n",
              " '편하게': 492,\n",
              " '팩': 493,\n",
              " '크게': 494,\n",
              " '애기': 495,\n",
              " ';': 496,\n",
              " '소재': 497,\n",
              " '가방': 498,\n",
              " '사은': 499,\n",
              " '부드럽고': 500,\n",
              " '즈': 501,\n",
              " '이불': 502,\n",
              " '배': 503,\n",
              " '친구': 504,\n",
              " '덜': 505,\n",
              " '가지': 506,\n",
              " '고장': 507,\n",
              " '위': 508,\n",
              " '엉망': 509,\n",
              " '안되네요': 510,\n",
              " '손잡이': 511,\n",
              " '조아요': 512,\n",
              " '저희': 513,\n",
              " '첨': 514,\n",
              " '블랙': 515,\n",
              " '얼굴': 516,\n",
              " '뭔가': 517,\n",
              " '맞아요': 518,\n",
              " '바람': 519,\n",
              " '쪽': 520,\n",
              " '문의': 521,\n",
              " '먹는': 522,\n",
              " '끝': 523,\n",
              " '기사': 524,\n",
              " '무게': 525,\n",
              " '용량': 526,\n",
              " '오늘': 527,\n",
              " '좋다고': 528,\n",
              " '꼭': 529,\n",
              " '보관': 530,\n",
              " '지퍼': 531,\n",
              " '버렸어요': 532,\n",
              " '없음': 533,\n",
              " '연결': 534,\n",
              " '없습니다': 535,\n",
              " '번창': 536,\n",
              " '쓰던': 537,\n",
              " '입고': 538,\n",
              " '몇번': 539,\n",
              " '써요': 540,\n",
              " 'ㅇ': 541,\n",
              " '물이': 542,\n",
              " '좋겠어요': 543,\n",
              " '차': 544,\n",
              " '사지': 545,\n",
              " '열': 546,\n",
              " '두께': 547,\n",
              " '꾸준히': 548,\n",
              " '훨씬': 549,\n",
              " '좀더': 550,\n",
              " '모양': 551,\n",
              " '싸고': 552,\n",
              " '고무': 553,\n",
              " '떡': 554,\n",
              " '중간': 555,\n",
              " '온': 556,\n",
              " '에게': 557,\n",
              " '색도': 558,\n",
              " '오고': 559,\n",
              " '좋아하네요': 560,\n",
              " '조': 561,\n",
              " '많아서': 562,\n",
              " '서비스': 563,\n",
              " '안되서': 564,\n",
              " '기능': 565,\n",
              " '확실히': 566,\n",
              " '거리': 567,\n",
              " '보통': 568,\n",
              " '아니네요': 569,\n",
              " '커요': 570,\n",
              " '깔끔하게': 571,\n",
              " '나고': 572,\n",
              " '밑': 573,\n",
              " '6': 574,\n",
              " '빠르게': 575,\n",
              " '가서': 576,\n",
              " '목': 577,\n",
              " '밖에': 578,\n",
              " '10': 579,\n",
              " '한쪽': 580,\n",
              " '후회': 581,\n",
              " '괜찮네요': 582,\n",
              " '자마자': 583,\n",
              " '본': 584,\n",
              " '왔습니다': 585,\n",
              " '선택': 586,\n",
              " '일반': 587,\n",
              " '좋아용': 588,\n",
              " '주고': 589,\n",
              " '왔는데': 590,\n",
              " '가루': 591,\n",
              " '같아': 592,\n",
              " '수납': 593,\n",
              " '아무리': 594,\n",
              " '뒤': 595,\n",
              " '할께요': 596,\n",
              " '무난': 597,\n",
              " '산': 598,\n",
              " '그런데': 599,\n",
              " '테이프': 600,\n",
              " '영': 601,\n",
              " '나네요': 602,\n",
              " '보다는': 603,\n",
              " '정품': 604,\n",
              " '되는': 605,\n",
              " '쿠션': 606,\n",
              " '이유': 607,\n",
              " '전이': 608,\n",
              " '먹을': 609,\n",
              " '결국': 610,\n",
              " '나무': 611,\n",
              " 'ᆢ': 612,\n",
              " '이쁘네요': 613,\n",
              " '저렴해서': 614,\n",
              " '무엇': 615,\n",
              " '단': 616,\n",
              " '조절': 617,\n",
              " '납니다': 618,\n",
              " '얇아서': 619,\n",
              " '죠': 620,\n",
              " '원단': 621,\n",
              " '스티커': 622,\n",
              " '감도': 623,\n",
              " '사이': 624,\n",
              " '김치': 625,\n",
              " '모르겠네요': 626,\n",
              " '평': 627,\n",
              " '모': 628,\n",
              " '바': 629,\n",
              " '자국': 630,\n",
              " '허리': 631,\n",
              " '기름': 632,\n",
              " '했던': 633,\n",
              " '했더니': 634,\n",
              " '키': 635,\n",
              " '이제': 636,\n",
              " '마리': 637,\n",
              " '보기': 638,\n",
              " '아쉬워요': 639,\n",
              " '작네요': 640,\n",
              " '담': 641,\n",
              " '겨울': 642,\n",
              " '패드': 643,\n",
              " '옆': 644,\n",
              " '벌써': 645,\n",
              " '편이': 646,\n",
              " '소': 647,\n",
              " '양도': 648,\n",
              " '마스크': 649,\n",
              " '분들': 650,\n",
              " '실': 651,\n",
              " '먹었는데': 652,\n",
              " '크네요': 653,\n",
              " '쉽게': 654,\n",
              " '무슨': 655,\n",
              " '쓰려고': 656,\n",
              " '기도': 657,\n",
              " '신발': 658,\n",
              " '좋았습니다': 659,\n",
              " '않습니다': 660,\n",
              " '전체': 661,\n",
              " '해봤는데': 662,\n",
              " '미리': 663,\n",
              " '잘쓸게요': 664,\n",
              " '약해요': 665,\n",
              " '검수': 666,\n",
              " '사세요': 667,\n",
              " '직접': 668,\n",
              " '원': 669,\n",
              " '남편': 670,\n",
              " '가요': 671,\n",
              " '얇고': 672,\n",
              " '굳': 673,\n",
              " '없어': 674,\n",
              " '나요': 675,\n",
              " '보면': 676,\n",
              " '하다가': 677,\n",
              " '쓰는데': 678,\n",
              " '하면서': 679,\n",
              " '들고': 680,\n",
              " '같고': 681,\n",
              " '깨져서': 682,\n",
              " '드렸는데': 683,\n",
              " '들어': 684,\n",
              " '무': 685,\n",
              " '식': 686,\n",
              " '였어요': 687,\n",
              " '부모님': 688,\n",
              " '약': 689,\n",
              " '마트': 690,\n",
              " '감사': 691,\n",
              " '맞아서': 692,\n",
              " '광고': 693,\n",
              " '먹었어요': 694,\n",
              " '번째': 695,\n",
              " '대로': 696,\n",
              " '제거': 697,\n",
              " '래': 698,\n",
              " '맞고': 699,\n",
              " '루': 700,\n",
              " '예정': 701,\n",
              " '니당': 702,\n",
              " '냉동': 703,\n",
              " '뒷': 704,\n",
              " '파손': 705,\n",
              " '아들': 706,\n",
              " '젤': 707,\n",
              " '쓰레기': 708,\n",
              " '작동': 709,\n",
              " '형': 710,\n",
              " '별루': 711,\n",
              " '신랑': 712,\n",
              " '맛있네요': 713,\n",
              " '우리': 714,\n",
              " '냥': 715,\n",
              " '보여요': 716,\n",
              " '거품': 717,\n",
              " '혼자': 718,\n",
              " '그닥': 719,\n",
              " '공간': 720,\n",
              " '맞네요': 721,\n",
              " '좋음': 722,\n",
              " '요즘': 723,\n",
              " '하다': 724,\n",
              " '그저': 725,\n",
              " '아닌': 726,\n",
              " '쓰면': 727,\n",
              " '이즈': 728,\n",
              " '흰색': 729,\n",
              " '움': 730,\n",
              " '예전': 731,\n",
              " '싼게': 732,\n",
              " '좋겠네요': 733,\n",
              " '않았지만': 734,\n",
              " '색감': 735,\n",
              " '100': 736,\n",
              " '휘': 737,\n",
              " '인터넷': 738,\n",
              " '비교': 739,\n",
              " '이라서': 740,\n",
              " '넣어': 741,\n",
              " '어쩔': 742,\n",
              " '야': 743,\n",
              " '저번': 744,\n",
              " '걸이': 745,\n",
              " '빠르네요': 746,\n",
              " '터져서': 747,\n",
              " '맛있어서': 748,\n",
              " '늦게': 749,\n",
              " '모르겠지만': 750,\n",
              " '인거': 751,\n",
              " '할듯': 752,\n",
              " '밥': 753,\n",
              " '올': 754,\n",
              " '엉': 755,\n",
              " '받아서': 756,\n",
              " '두고': 757,\n",
              " '확정': 758,\n",
              " '해보니': 759,\n",
              " '좋아해서': 760,\n",
              " '편': 761,\n",
              " '선': 762,\n",
              " '싶네요': 763,\n",
              " '굿굿': 764,\n",
              " '꼼꼼하게': 765,\n",
              " '비지': 766,\n",
              " '먹어서': 767,\n",
              " '고급': 768,\n",
              " '봉': 769,\n",
              " '괜찮은데': 770,\n",
              " '회사': 771,\n",
              " '평이': 772,\n",
              " '필름': 773,\n",
              " '굉장히': 774,\n",
              " '얇아요': 775,\n",
              " '고구마': 776,\n",
              " '흡수': 777,\n",
              " '높이': 778,\n",
              " '맞는': 779,\n",
              " '귀': 780,\n",
              " '개월': 781,\n",
              " '하겠습니다': 782,\n",
              " '다시는': 783,\n",
              " '되지': 784,\n",
              " '매트': 785,\n",
              " '안쪽': 786,\n",
              " '많아요': 787,\n",
              " '당': 788,\n",
              " '화이트': 789,\n",
              " '몸': 790,\n",
              " '버렸네요': 791,\n",
              " '그렇게': 792,\n",
              " '보이': 793,\n",
              " '솜': 794,\n",
              " '넣고': 795,\n",
              " '먹네요': 796,\n",
              " '백': 797,\n",
              " '침대': 798,\n",
              " '첫': 799,\n",
              " '아침': 800,\n",
              " '발송': 801,\n",
              " '살이': 802,\n",
              " '양념': 803,\n",
              " '보내': 804,\n",
              " '먹으면': 805,\n",
              " '볼': 806,\n",
              " '업체': 807,\n",
              " '받자마자': 808,\n",
              " '좋아여': 809,\n",
              " '교체': 810,\n",
              " '아예': 811,\n",
              " '밤': 812,\n",
              " '핏': 813,\n",
              " '있음': 814,\n",
              " '받았는데': 815,\n",
              " '그레이': 816,\n",
              " '성능': 817,\n",
              " '쉽고': 818,\n",
              " '하기도': 819,\n",
              " '신': 820,\n",
              " '용도': 821,\n",
              " '이틀': 822,\n",
              " '입맛': 823,\n",
              " '몇개': 824,\n",
              " '감사해요': 825,\n",
              " '예쁘네요': 826,\n",
              " '팬티': 827,\n",
              " '쓰다가': 828,\n",
              " '상자': 829,\n",
              " '잘쓰고': 830,\n",
              " '아무': 831,\n",
              " '떨어져서': 832,\n",
              " '건가': 833,\n",
              " '컬러': 834,\n",
              " '넘게': 835,\n",
              " '솔직히': 836,\n",
              " '있지만': 837,\n",
              " '보단': 838,\n",
              " '강아지': 839,\n",
              " '세트': 840,\n",
              " '적당하고': 841,\n",
              " '불편하네요': 842,\n",
              " '해주셔서': 843,\n",
              " '가족': 844,\n",
              " '되어서': 845,\n",
              " '느리고': 846,\n",
              " '옴': 847,\n",
              " '심해': 848,\n",
              " '할것': 849,\n",
              " '실제': 850,\n",
              " '소음': 851,\n",
              " '한지': 852,\n",
              " '평소': 853,\n",
              " '모서리': 854,\n",
              " '녹아서': 855,\n",
              " '짜리': 856,\n",
              " '배달': 857,\n",
              " '보진': 858,\n",
              " '좋으네요': 859,\n",
              " '좋지': 860,\n",
              " '떨어져요': 861,\n",
              " '괜히': 862,\n",
              " '약해서': 863,\n",
              " '폭': 864,\n",
              " '이지만': 865,\n",
              " '작': 866,\n",
              " '요청': 867,\n",
              " '비싼': 868,\n",
              " '봅니다': 869,\n",
              " '유리': 870,\n",
              " '가슴': 871,\n",
              " '부착': 872,\n",
              " '문자': 873,\n",
              " '한개': 874,\n",
              " '세척': 875,\n",
              " '빠져서': 876,\n",
              " '딸': 877,\n",
              " '그럭저럭': 878,\n",
              " '어깨': 879,\n",
              " '뻑뻑': 880,\n",
              " '기본': 881,\n",
              " '개인': 882,\n",
              " '신청': 883,\n",
              " '사고': 884,\n",
              " '여행': 885,\n",
              " '겉': 886,\n",
              " '귀여워요': 887,\n",
              " '당황': 888,\n",
              " '지는': 889,\n",
              " '난': 890,\n",
              " '서랍': 891,\n",
              " '아닌데': 892,\n",
              " '할수': 893,\n",
              " '으로도': 894,\n",
              " '털': 895,\n",
              " '안됨': 896,\n",
              " '컵': 897,\n",
              " '먹었습니다': 898,\n",
              " '산건데': 899,\n",
              " '인가': 900,\n",
              " '떨어지네요': 901,\n",
              " '아님': 902,\n",
              " 'ㄴ': 903,\n",
              " '나쁘지': 904,\n",
              " '양말': 905,\n",
              " '많은': 906,\n",
              " '고객': 907,\n",
              " '천': 908,\n",
              " '하자': 909,\n",
              " '얼룩': 910,\n",
              " '아니': 911,\n",
              " '다신': 912,\n",
              " '대박': 913,\n",
              " '글': 914,\n",
              " '자극': 915,\n",
              " '3일': 916,\n",
              " '매일': 917,\n",
              " '드네': 918,\n",
              " '건데': 919,\n",
              " '취소': 920,\n",
              " '흠': 921,\n",
              " '종이': 922,\n",
              " '기스': 923,\n",
              " '실리콘': 924,\n",
              " '부위': 925,\n",
              " '답변': 926,\n",
              " '안좋아요': 927,\n",
              " '종류': 928,\n",
              " '지인': 929,\n",
              " '연': 930,\n",
              " '내용물': 931,\n",
              " '편하네요': 932,\n",
              " '께': 933,\n",
              " '느려요': 934,\n",
              " '맞지': 935,\n",
              " '핑크': 936,\n",
              " '누가': 937,\n",
              " '보풀': 938,\n",
              " '써서': 939,\n",
              " '간식': 940,\n",
              " '써야': 941,\n",
              " '돼요': 942,\n",
              " '썼는데': 943,\n",
              " '이미': 944,\n",
              " '갈': 945,\n",
              " '커피': 946,\n",
              " '맛있고': 947,\n",
              " '마니': 948,\n",
              " '버렸습니다': 949,\n",
              " '붙이': 950,\n",
              " '지속': 951,\n",
              " '됨': 952,\n",
              " '함께': 953,\n",
              " '빠릅니다': 954,\n",
              " '대충': 955,\n",
              " '청소': 956,\n",
              " '고생': 957,\n",
              " '아이스팩': 958,\n",
              " '힘들어요': 959,\n",
              " '가죽': 960,\n",
              " '작업': 961,\n",
              " '샀습니다': 962,\n",
              " '같은게': 963,\n",
              " '왔고': 964,\n",
              " '채': 965,\n",
              " '샴푸': 966,\n",
              " '이라도': 967,\n",
              " '실밥': 968,\n",
              " '될': 969,\n",
              " 'ㅏ': 970,\n",
              " '급하게': 971,\n",
              " '새로': 972,\n",
              " '쓸게요': 973,\n",
              " '키로': 974,\n",
              " '재구': 975,\n",
              " '같음': 976,\n",
              " '혹시': 977,\n",
              " '다르네요': 978,\n",
              " '나와서': 979,\n",
              " '않은': 980,\n",
              " '차라리': 981,\n",
              " '안됩니다': 982,\n",
              " '받은': 983,\n",
              " '동안': 984,\n",
              " '강추': 985,\n",
              " '모기': 986,\n",
              " '귀찮아': 987,\n",
              " '들어서': 988,\n",
              " '세번': 989,\n",
              " '좋을': 990,\n",
              " '싸구려': 991,\n",
              " '아쉽습니다': 992,\n",
              " '짐': 993,\n",
              " '봉지': 994,\n",
              " '긴한데': 995,\n",
              " '우선': 996,\n",
              " '않': 997,\n",
              " '돼서': 998,\n",
              " '아래': 999,\n",
              " ...}"
            ]
          },
          "metadata": {},
          "execution_count": 44
        }
      ]
    },
    {
      "cell_type": "code",
      "execution_count": null,
      "metadata": {
        "colab": {
          "base_uri": "https://localhost:8080/"
        },
        "id": "rZ2wqrS3s3k3",
        "outputId": "eeb2bb19-c2ca-43f9-c097-da6ba7bd6752"
      },
      "outputs": [
        {
          "output_type": "execute_result",
          "data": {
            "text/plain": [
              "(67654, list)"
            ]
          },
          "metadata": {},
          "execution_count": 45
        }
      ],
      "source": [
        "len(vocab),type(vocab)"
      ]
    },
    {
      "cell_type": "code",
      "execution_count": null,
      "metadata": {
        "colab": {
          "base_uri": "https://localhost:8080/"
        },
        "id": "mbZZpBfrvyb7",
        "outputId": "e14931fc-0181-4222-82b3-1327c56fc4af"
      },
      "outputs": [
        {
          "output_type": "execute_result",
          "data": {
            "text/plain": [
              "[('별루', 0.8557091355323792),\n",
              " ('뱔루', 0.7174295783042908),\n",
              " ('지못미', 0.6961038708686829),\n",
              " ('입을만한', 0.6812195181846619),\n",
              " ('기대치이하', 0.6802605390548706),\n",
              " ('해치우는', 0.6770378947257996),\n",
              " ('입을거라서', 0.6766760945320129),\n",
              " ('그대로', 0.6749017238616943),\n",
              " ('떠가지고', 0.673837423324585),\n",
              " ('게뭐', 0.6708261370658875)]"
            ]
          },
          "metadata": {},
          "execution_count": 46
        }
      ],
      "source": [
        "model.wv.most_similar('별로', topn=10)"
      ]
    },
    {
      "cell_type": "code",
      "execution_count": null,
      "metadata": {
        "colab": {
          "base_uri": "https://localhost:8080/"
        },
        "id": "V2WNGlawJQRh",
        "outputId": "9d141440-fec7-4729-bc39-adfc8e15404e"
      },
      "outputs": [
        {
          "output_type": "stream",
          "name": "stderr",
          "text": [
            "100%|██████████| 80000/80000 [02:35<00:00, 515.57it/s]\n",
            "  0%|          | 39/20000 [00:00<00:51, 389.55it/s]"
          ]
        }
      ],
      "source": [
        "train_sentence_vector = []\n",
        "for cur_sent in tqdm(train_sentence):\n",
        "  vector = np.zeros(100,)\n",
        "  for word in cur_sent:\n",
        "    if word in vocab:\n",
        "      vector += model.wv[word]\n",
        "  train_sentence_vector.append(vector)\n",
        "\n",
        "test_sentence_vector = []\n",
        "for cur_sent in tqdm(test_sentence):\n",
        "  vector = np.zeros(100,)\n",
        "  for word in cur_sent:\n",
        "    if word in vocab:\n",
        "      vector += model.wv[word]\n",
        "  test_sentence_vector.append(vector)"
      ]
    },
    {
      "cell_type": "code",
      "execution_count": null,
      "metadata": {
        "id": "v_oc9lQrzqYu"
      },
      "outputs": [],
      "source": [
        "train_df['w2v_sentence_vector'] = train_sentence_vector\n",
        "test_df['w2v_sentence_vector'] = test_sentence_vector"
      ]
    },
    {
      "cell_type": "markdown",
      "metadata": {
        "id": "oQqxDIcb__Kv"
      },
      "source": [
        "#### Method 2. Glove"
      ]
    },
    {
      "cell_type": "code",
      "execution_count": null,
      "metadata": {
        "colab": {
          "base_uri": "https://localhost:8080/"
        },
        "id": "vVPPO1-WAANR",
        "outputId": "0bf323d7-04f7-43e6-ac0d-af643e16ee01"
      },
      "outputs": [
        {
          "name": "stdout",
          "output_type": "stream",
          "text": [
            "Performing 20 training epochs with 4 threads\n",
            "Epoch 0\n",
            "Epoch 1\n",
            "Epoch 2\n",
            "Epoch 3\n",
            "Epoch 4\n",
            "Epoch 5\n",
            "Epoch 6\n",
            "Epoch 7\n",
            "Epoch 8\n",
            "Epoch 9\n",
            "Epoch 10\n",
            "Epoch 11\n",
            "Epoch 12\n",
            "Epoch 13\n",
            "Epoch 14\n",
            "Epoch 15\n",
            "Epoch 16\n",
            "Epoch 17\n",
            "Epoch 18\n",
            "Epoch 19\n"
          ]
        }
      ],
      "source": [
        "from glove import Corpus, Glove\n",
        "\n",
        "corpus = Corpus() \n",
        "\n",
        "# 훈련 데이터로부터 GloVe에서 사용할 동시 등장 행렬 생성\n",
        "corpus.fit(train_sentence, window=5)\n",
        "glove = Glove(no_components=100, learning_rate=0.05, random_state=42)\n",
        "\n",
        "# 학습에 이용할 쓰레드의 개수는 4로 설정, 에포크는 20.\n",
        "glove.fit(corpus.matrix, epochs=20, no_threads=4, verbose=True)\n",
        "glove.add_dictionary(corpus.dictionary)"
      ]
    },
    {
      "cell_type": "code",
      "execution_count": null,
      "metadata": {
        "colab": {
          "base_uri": "https://localhost:8080/"
        },
        "id": "QqGZD17kCW-6",
        "outputId": "bef4428a-7c0d-40a8-c27b-ab0484173287"
      },
      "outputs": [
        {
          "data": {
            "text/plain": [
              "[('에요', 0.9359565467561218),\n",
              " ('예요', 0.9044741251685323),\n",
              " ('임', 0.8953138297688558),\n",
              " ('별루', 0.8872834387651115),\n",
              " ('였어요', 0.8840304931563836),\n",
              " ('였네요', 0.8714731780423475),\n",
              " ('멸로멸류멸', 0.8450582105914648),\n",
              " ('붙지안음', 0.8243578207139584),\n",
              " ('너무해', 0.7983413734824351)]"
            ]
          },
          "execution_count": 45,
          "metadata": {},
          "output_type": "execute_result"
        }
      ],
      "source": [
        "glove.most_similar(\"별로\",number=10)"
      ]
    },
    {
      "cell_type": "code",
      "execution_count": null,
      "metadata": {
        "colab": {
          "base_uri": "https://localhost:8080/"
        },
        "id": "TgmJAprn0uCD",
        "outputId": "e392d0f6-2bfe-4bea-b89b-ad43d18cc5e3"
      },
      "outputs": [
        {
          "name": "stderr",
          "output_type": "stream",
          "text": [
            "100%|██████████| 67653/67653 [00:00<00:00, 1306535.27it/s]\n"
          ]
        }
      ],
      "source": [
        "vocab = []\n",
        "for word, word_idx in tqdm(glove.dictionary.items()):\n",
        "  vocab.append(word)"
      ]
    },
    {
      "cell_type": "code",
      "execution_count": null,
      "metadata": {
        "colab": {
          "base_uri": "https://localhost:8080/"
        },
        "id": "8APe6cax8vej",
        "outputId": "c93f8dd9-4c0f-4944-afda-65c0eb95dcde"
      },
      "outputs": [
        {
          "name": "stderr",
          "output_type": "stream",
          "text": [
            "100%|██████████| 80000/80000 [06:01<00:00, 221.41it/s]\n",
            "100%|██████████| 20000/20000 [02:12<00:00, 151.27it/s]\n"
          ]
        }
      ],
      "source": [
        "train_sentence_vector = []\n",
        "for cur_sent in tqdm(train_sentence):\n",
        "  vector = np.zeros(100,)\n",
        "  for word in cur_sent:\n",
        "    if word in vocab:\n",
        "      vector += glove.word_vectors[glove.dictionary[word]]\n",
        "  train_sentence_vector.append(vector)\n",
        "\n",
        "test_sentence_vector = []\n",
        "for cur_sent in tqdm(test_sentence):\n",
        "  vector = np.zeros(100,)\n",
        "  for word in cur_sent:\n",
        "    if word in vocab:\n",
        "      vector += glove.word_vectors[glove.dictionary[word]]\n",
        "  test_sentence_vector.append(vector)"
      ]
    },
    {
      "cell_type": "code",
      "execution_count": null,
      "metadata": {
        "id": "IQxHkLGW-Cl9"
      },
      "outputs": [],
      "source": [
        "train_df['glove_sentence_vector'] = train_sentence_vector\n",
        "test_df['glove_sentence_vector'] = test_sentence_vector"
      ]
    },
    {
      "cell_type": "markdown",
      "metadata": {
        "id": "ZkkXDZwYDkPW"
      },
      "source": [
        "#### Method 3. FastText"
      ]
    },
    {
      "cell_type": "code",
      "execution_count": null,
      "metadata": {
        "colab": {
          "base_uri": "https://localhost:8080/"
        },
        "id": "Vm_Wm1N-CuU5",
        "outputId": "2babe35a-5a01-4e23-cf26-d46a455612fb"
      },
      "outputs": [
        {
          "name": "stdout",
          "output_type": "stream",
          "text": [
            "CPU times: user 1min 14s, sys: 908 ms, total: 1min 15s\n",
            "Wall time: 52.6 s\n"
          ]
        }
      ],
      "source": [
        "%%time\n",
        "from gensim.models import FastText\n",
        "\n",
        "model = FastText(\n",
        "    sentences = tokenized_sentence,\n",
        "    size=100,\n",
        "    window=5,\n",
        "    min_count=1,\n",
        "    workers=4)"
      ]
    },
    {
      "cell_type": "code",
      "execution_count": null,
      "metadata": {
        "id": "npnHNTWrEHZg"
      },
      "outputs": [],
      "source": [
        "vocab = list(model.wv.vocab)"
      ]
    },
    {
      "cell_type": "code",
      "execution_count": null,
      "metadata": {
        "colab": {
          "base_uri": "https://localhost:8080/"
        },
        "id": "G1sUGiliEXrj",
        "outputId": "403d69c7-4cc8-4d3d-97c6-7444a74c6897"
      },
      "outputs": [
        {
          "data": {
            "text/plain": [
              "76908"
            ]
          },
          "execution_count": 178,
          "metadata": {},
          "output_type": "execute_result"
        }
      ],
      "source": [
        "len(vocab)"
      ]
    },
    {
      "cell_type": "code",
      "execution_count": null,
      "metadata": {
        "colab": {
          "base_uri": "https://localhost:8080/"
        },
        "id": "5UJFjOqTEXBZ",
        "outputId": "75c73a7f-b11f-45f5-b6c4-120f0e550119"
      },
      "outputs": [
        {
          "data": {
            "text/plain": [
              "[('별로넷', 0.9996068477630615),\n",
              " ('별루', 0.8530545830726624),\n",
              " ('닥별루', 0.8459689617156982),\n",
              " ('별루없', 0.8427098989486694),\n",
              " ('별루별루', 0.8366000652313232),\n",
              " ('별루여', 0.8299564719200134),\n",
              " ('별루다', 0.8254740238189697),\n",
              " ('별루료', 0.8250741958618164),\n",
              " ('별루별루별루', 0.8250157833099365),\n",
              " ('별루래', 0.8218951225280762)]"
            ]
          },
          "execution_count": 179,
          "metadata": {},
          "output_type": "execute_result"
        }
      ],
      "source": [
        "model.wv.most_similar('별로', topn=10)"
      ]
    },
    {
      "cell_type": "code",
      "execution_count": null,
      "metadata": {
        "colab": {
          "base_uri": "https://localhost:8080/"
        },
        "id": "rvCCVROa-Ia6",
        "outputId": "23817bd4-da32-476b-bee2-fa171818f86a"
      },
      "outputs": [
        {
          "name": "stderr",
          "output_type": "stream",
          "text": [
            "100%|██████████| 80000/80000 [05:43<00:00, 232.85it/s]\n",
            "100%|██████████| 20000/20000 [01:26<00:00, 232.48it/s]\n"
          ]
        }
      ],
      "source": [
        "train_sentence_vector = []\n",
        "for cur_sent in tqdm(train_sentence):\n",
        "  vector = np.zeros(100,)\n",
        "  for word in cur_sent:\n",
        "    if word in vocab:\n",
        "      vector += model.wv[word]\n",
        "  train_sentence_vector.append(vector)\n",
        "\n",
        "test_sentence_vector = []\n",
        "for cur_sent in tqdm(test_sentence):\n",
        "  vector = np.zeros(100,)\n",
        "  for word in cur_sent:\n",
        "    if word in vocab:\n",
        "      vector += model.wv[word]\n",
        "  test_sentence_vector.append(vector)"
      ]
    },
    {
      "cell_type": "code",
      "execution_count": null,
      "metadata": {
        "id": "Cgq8oHJm-KqF"
      },
      "outputs": [],
      "source": [
        "train_df['ft_sentence_vector'] = train_sentence_vector\n",
        "test_df['ft_sentence_vector'] = test_sentence_vector"
      ]
    },
    {
      "cell_type": "code",
      "execution_count": null,
      "metadata": {
        "id": "2EpRAxxNElAT"
      },
      "outputs": [],
      "source": [
        "# train_df.to_csv('./train_df.csv')\n",
        "# test_df.to_csv('./test_df.csv')"
      ]
    },
    {
      "cell_type": "markdown",
      "metadata": {
        "id": "6v2UDIcOEoKb"
      },
      "source": [
        "### STEP 5. 모델 구축하기 (Modeling)\n",
        "* Word2Vec, Glove, FastText를 활용하여 감성분석 모델 만들기\n"
      ]
    },
    {
      "cell_type": "markdown",
      "metadata": {
        "id": "rcRt3NVPDLx0"
      },
      "source": [
        "#### Word2Vec을 사용하여 감성 분석하기"
      ]
    },
    {
      "cell_type": "code",
      "execution_count": null,
      "metadata": {
        "id": "fP9RnMN_4RZF"
      },
      "outputs": [],
      "source": [
        "w2v_df = train_df[['label','w2v_sentence_vector']]"
      ]
    },
    {
      "cell_type": "code",
      "execution_count": null,
      "metadata": {
        "colab": {
          "base_uri": "https://localhost:8080/"
        },
        "id": "KuFIMx5EqP7i",
        "outputId": "262e9c5c-c518-4fbd-ab6e-2f5df3275343"
      },
      "outputs": [
        {
          "data": {
            "text/plain": [
              "0.9995625"
            ]
          },
          "execution_count": 208,
          "metadata": {},
          "output_type": "execute_result"
        }
      ],
      "source": [
        "from sklearn.tree import DecisionTreeClassifier\n",
        "\n",
        "model = DecisionTreeClassifier(random_state=42)\n",
        "\n",
        "sent_vec = np.stack(w2v_df.w2v_sentence_vector,axis=0)\n",
        "label_vec = np.array(w2v_df.label.to_list()).reshape(-1,)\n",
        "\n",
        "model = model.fit(sent_vec, label_vec)\n",
        "model.score(sent_vec, label_vec)"
      ]
    },
    {
      "cell_type": "code",
      "execution_count": null,
      "metadata": {
        "colab": {
          "base_uri": "https://localhost:8080/"
        },
        "id": "4ycleXJ-DENb",
        "outputId": "90e2eb60-c31b-4d8b-885e-89dfe7a2565d"
      },
      "outputs": [
        {
          "data": {
            "text/plain": [
              "0.76705"
            ]
          },
          "execution_count": 209,
          "metadata": {},
          "output_type": "execute_result"
        }
      ],
      "source": [
        "w2v_df = test_df[['label','w2v_sentence_vector']]\n",
        "sent_vec = np.stack(w2v_df.w2v_sentence_vector,axis=0)\n",
        "label_vec = np.array(w2v_df.label.to_list()).reshape(-1,)\n",
        "model.score(sent_vec, label_vec)"
      ]
    },
    {
      "cell_type": "code",
      "execution_count": null,
      "metadata": {
        "id": "1FlGjn8xIrEv"
      },
      "outputs": [],
      "source": [
        "glove_df = train_df[['label','glove_sentence_vector']]"
      ]
    },
    {
      "cell_type": "code",
      "execution_count": null,
      "metadata": {
        "colab": {
          "base_uri": "https://localhost:8080/"
        },
        "id": "RTIWC_WRIq7W",
        "outputId": "5dcde170-5671-4e16-a4a7-ecf3f555c638"
      },
      "outputs": [
        {
          "data": {
            "text/plain": [
              "0.9995625"
            ]
          },
          "execution_count": 211,
          "metadata": {},
          "output_type": "execute_result"
        }
      ],
      "source": [
        "from sklearn.tree import DecisionTreeClassifier\n",
        "model = DecisionTreeClassifier(random_state=42)\n",
        "\n",
        "sent_vec = np.stack(glove_df.glove_sentence_vector,axis=0)\n",
        "label_vec = np.array(glove_df.label.to_list()).reshape(-1,)\n",
        "\n",
        "model = model.fit(sent_vec, label_vec)\n",
        "model.score(sent_vec, label_vec)"
      ]
    },
    {
      "cell_type": "code",
      "execution_count": null,
      "metadata": {
        "colab": {
          "base_uri": "https://localhost:8080/"
        },
        "id": "Nf4bsBsJIqsy",
        "outputId": "f0289653-1a5a-421f-c8c4-fa33ec3b8ebc"
      },
      "outputs": [
        {
          "data": {
            "text/plain": [
              "0.71695"
            ]
          },
          "execution_count": 212,
          "metadata": {},
          "output_type": "execute_result"
        }
      ],
      "source": [
        "glove_df = test_df[['label','glove_sentence_vector']]\n",
        "\n",
        "sent_vec = np.stack(glove_df.glove_sentence_vector,axis=0)\n",
        "label_vec = np.array(glove_df.label.to_list()).reshape(-1,)\n",
        "model.score(sent_vec, label_vec)"
      ]
    },
    {
      "cell_type": "code",
      "execution_count": null,
      "metadata": {
        "colab": {
          "base_uri": "https://localhost:8080/"
        },
        "id": "V8x4-zHzI6PP",
        "outputId": "c5809682-8f15-4b19-ff99-e7922859e597"
      },
      "outputs": [
        {
          "data": {
            "text/plain": [
              "0.9995625"
            ]
          },
          "execution_count": 213,
          "metadata": {},
          "output_type": "execute_result"
        }
      ],
      "source": [
        "from sklearn.tree import DecisionTreeClassifier\n",
        "ft_df = train_df[['label','ft_sentence_vector']]\n",
        "\n",
        "model = DecisionTreeClassifier(random_state=42)\n",
        "\n",
        "sent_vec = np.stack(ft_df.ft_sentence_vector,axis=0)\n",
        "label_vec = np.array(ft_df.label.to_list()).reshape(-1,)\n",
        "\n",
        "model = model.fit(sent_vec, label_vec)\n",
        "model.score(sent_vec, label_vec)"
      ]
    },
    {
      "cell_type": "code",
      "execution_count": null,
      "metadata": {
        "colab": {
          "base_uri": "https://localhost:8080/"
        },
        "id": "uNT9sCxPJPtK",
        "outputId": "9b821881-2af1-4ce9-a10f-5d019aae388b"
      },
      "outputs": [
        {
          "data": {
            "text/plain": [
              "0.751"
            ]
          },
          "execution_count": 214,
          "metadata": {},
          "output_type": "execute_result"
        }
      ],
      "source": [
        "ft_df = test_df[['label','ft_sentence_vector']]\n",
        "\n",
        "sent_vec = np.stack(ft_df.ft_sentence_vector,axis=0)\n",
        "label_vec = np.array(ft_df.label.to_list()).reshape(-1,)\n",
        "model.score(sent_vec, label_vec)"
      ]
    }
  ],
  "metadata": {
    "colab": {
      "provenance": [],
      "toc_visible": true
    },
    "kernelspec": {
      "display_name": "Python 3",
      "name": "python3"
    },
    "language_info": {
      "name": "python"
    },
    "accelerator": "GPU",
    "gpuClass": "standard"
  },
  "nbformat": 4,
  "nbformat_minor": 0
}